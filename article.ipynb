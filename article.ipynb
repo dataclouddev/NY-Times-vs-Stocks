{
 "cells": [
  {
   "cell_type": "code",
   "execution_count": 68,
   "metadata": {},
   "outputs": [],
   "source": [
    "# Modules\n",
    "import pandas as pd\n",
    "import requests\n",
    "import time\n",
    "from datetime import date"
   ]
  },
  {
   "cell_type": "code",
   "execution_count": 69,
   "metadata": {},
   "outputs": [],
   "source": [
    "# API Key\n",
    "from keys import NY_Times_API_KEY"
   ]
  },
  {
   "cell_type": "code",
   "execution_count": 70,
   "metadata": {},
   "outputs": [],
   "source": [
    "# Request Settings\n",
    "from settings import startDate, endDate"
   ]
  },
  {
   "cell_type": "code",
   "execution_count": 71,
   "metadata": {},
   "outputs": [],
   "source": [
    "# Base URLs\n",
    "\n",
    "NY_Times_ARCHIVE_BASE_URL = 'https://api.nytimes.com/svc/archive/v1/'#YYYY/MM.json?api-key=\n",
    "NY_Times_ARTICLE_SEARCH_BASE_URL = 'https://api.nytimes.com/svc/search/v2/articlesearch.json?q='"
   ]
  },
  {
   "cell_type": "markdown",
   "metadata": {},
   "source": [
    "Hypothesis: Articles released by the NY Times influence the performance of stock symbols.\n",
    "Null Hypothesis: Articles released by the NY Times have no correlation with the performance of stock symbols."
   ]
  },
  {
   "cell_type": "code",
   "execution_count": 72,
   "metadata": {},
   "outputs": [],
   "source": [
    "def request_articles(date):\n",
    "    base = NY_Times_ARCHIVE_BASE_URL\n",
    "    url = f'{base}{date.year}/{date.month}.json?api-key={NY_Times_API_KEY}'\n",
    "    try:\n",
    "        req = requests.get(url).json()\n",
    "    except Exception as e:\n",
    "        return (e,'')\n",
    "    time.sleep(5)\n",
    "    return req"
   ]
  },
  {
   "cell_type": "code",
   "execution_count": 73,
   "metadata": {},
   "outputs": [],
   "source": [
    "def has_headline(article):\n",
    "    article_has_headline = type(article[ 'headline']) == dict and 'main' in article['headline'].keys()\n",
    "    return article_has_headline"
   ]
  },
  {
   "cell_type": "code",
   "execution_count": 74,
   "metadata": {},
   "outputs": [],
   "source": [
    "def first_of_months_in_date_range(startDate=date.today(),endDate=date.today()):\n",
    "    months_in_range = [x.split(' ') for x in pd.date_range(startDate, endDate, freq='MS').strftime(\"%Y %m %d\").tolist()]\n",
    "    return months_in_range"
   ]
  },
  {
   "cell_type": "code",
   "execution_count": 76,
   "metadata": {},
   "outputs": [],
   "source": [
    "articlesDict = { # Column headers for dataframe\n",
    "    'id':[],\n",
    "    'date':[],\n",
    "    'url':[],\n",
    "    'headline':[],\n",
    "    'abstract':[],\n",
    "    'leadParagraph':[],\n",
    "    'keywords':[],\n",
    "    'author':[]\n",
    "}"
   ]
  },
  {
   "cell_type": "code",
   "execution_count": 86,
   "metadata": {},
   "outputs": [],
   "source": [
    "def fetch_articles_df(article_date_range,articles):\n",
    "    b = tuple()\n",
    "    for d in article_date_range: # requests articles for every month in the range of startDate to endDate variables defined above. Filters by has_headline\n",
    "        year, month, day  = int(d[0]), int(d[1]), int(d[2])\n",
    "        article = request_articles(date(year,month,day))['response']['docs']\n",
    "        if type(article) == type(b): # If article is returned as a tuple, its because request_articles ran into an error. (errorMessage,json)\n",
    "            print(f'REQUEST ERROR: {article[0]}')\n",
    "        else:\n",
    "            for i in range(1,len(article)):\n",
    "                articles['id'].append(article[i]['_id'])\n",
    "                articles['date'].append(article[i]['pub_date'])\n",
    "                articles['url'].append(article[i]['web_url'])\n",
    "                articles['headline'].append(article[i]['headline'])\n",
    "                articles['abstract'].append(article[i]['abstract'])\n",
    "                articles['leadParagraph'].append(article[i]['lead_paragraph'])\n",
    "                articles['keywords'].append(article[i]['keywords'])\n",
    "                articles['author'].append(article[i]['byline'])\n",
    "    articlesDataframe = pd.DataFrame(data=articles)\n",
    "    return articlesDataframe"
   ]
  },
  {
   "cell_type": "code",
   "execution_count": 84,
   "metadata": {},
   "outputs": [],
   "source": [
    "article_date_range = first_of_months_in_date_range(startDate=startDate,endDate=endDate)\n",
    "a = fetch_articles_df(article_date_range=article_date_range,articles=articlesDict)"
   ]
  },
  {
   "cell_type": "code",
   "execution_count": 81,
   "metadata": {},
   "outputs": [],
   "source": [
    "_ = a.to_csv('articles.csv')"
   ]
  },
  {
   "cell_type": "code",
   "execution_count": 82,
   "metadata": {},
   "outputs": [
    {
     "name": "stdout",
     "output_type": "stream",
     "text": [
      "<class 'pandas.core.frame.DataFrame'>\n",
      "RangeIndex: 16044 entries, 0 to 16043\n",
      "Data columns (total 8 columns):\n",
      " #   Column         Non-Null Count  Dtype \n",
      "---  ------         --------------  ----- \n",
      " 0   id             16044 non-null  object\n",
      " 1   date           16044 non-null  object\n",
      " 2   url            16044 non-null  object\n",
      " 3   headline       16044 non-null  object\n",
      " 4   abstract       16044 non-null  object\n",
      " 5   leadParagraph  16044 non-null  object\n",
      " 6   keywords       16044 non-null  object\n",
      " 7   author         16044 non-null  object\n",
      "dtypes: object(8)\n",
      "memory usage: 1002.9+ KB\n"
     ]
    }
   ],
   "source": [
    "a.info()"
   ]
  }
 ],
 "metadata": {
  "interpreter": {
   "hash": "02c2ae7a6e84caf918063aba9c6693b0f4c9ae1c06cd2d53e0c72293d7182a81"
  },
  "kernelspec": {
   "display_name": "Python 3.10.5 ('env': venv)",
   "language": "python",
   "name": "python3"
  },
  "language_info": {
   "codemirror_mode": {
    "name": "ipython",
    "version": 3
   },
   "file_extension": ".py",
   "mimetype": "text/x-python",
   "name": "python",
   "nbconvert_exporter": "python",
   "pygments_lexer": "ipython3",
   "version": "3.10.5"
  },
  "orig_nbformat": 4
 },
 "nbformat": 4,
 "nbformat_minor": 2
}
