{
 "cells": [
  {
   "cell_type": "code",
   "execution_count": 1,
   "metadata": {},
   "outputs": [],
   "source": [
    "# Modules\n",
    "import pandas as pd\n",
    "import requests\n",
    "import matplotlib as plt\n",
    "import json\n",
    "import time\n",
    "from datetime import date\n",
    "from dateutil.relativedelta import relativedelta"
   ]
  },
  {
   "cell_type": "code",
   "execution_count": 2,
   "metadata": {},
   "outputs": [],
   "source": [
    "# API Key\n",
    "from keys import NY_Times_API_KEY"
   ]
  },
  {
   "cell_type": "code",
   "execution_count": 3,
   "metadata": {},
   "outputs": [],
   "source": [
    "# Request Settings\n",
    "from settings import startDate, endDate"
   ]
  },
  {
   "cell_type": "code",
   "execution_count": 4,
   "metadata": {},
   "outputs": [],
   "source": [
    "# Base URLs\n",
    "\n",
    "NY_Times_ARCHIVE_BASE_URL = 'https://api.nytimes.com/svc/archive/v1/'#YYYY/MM.json?api-key=\n",
    "NY_Times_ARTICLE_SEARCH_BASE_URL = 'https://api.nytimes.com/svc/search/v2/articlesearch.json?q='"
   ]
  },
  {
   "cell_type": "markdown",
   "metadata": {},
   "source": [
    "Hypothesis: Articles released by the NY Times influence the performance of stock symbols.\n",
    "Null Hypothesis: Articles released by the NY Times have no correlation with the performance of stock symbols."
   ]
  },
  {
   "cell_type": "code",
   "execution_count": 5,
   "metadata": {},
   "outputs": [],
   "source": [
    "def request_articles(date):\n",
    "    base = NY_Times_ARCHIVE_BASE_URL\n",
    "    url = f'{base}{date.year}/{date.month}.json?api-key={NY_Times_API_KEY}'\n",
    "    try:\n",
    "        req = requests.get(url).json()\n",
    "    except Exception as e:\n",
    "        return (e,'')\n",
    "    time.sleep(5)\n",
    "    return req"
   ]
  },
  {
   "cell_type": "code",
   "execution_count": 6,
   "metadata": {},
   "outputs": [],
   "source": [
    "def has_headline(article):\n",
    "    article_has_headline = type(article[ 'headline']) == dict and 'main' in article['headline'].keys()\n",
    "    return article_has_headline"
   ]
  },
  {
   "cell_type": "code",
   "execution_count": 7,
   "metadata": {},
   "outputs": [],
   "source": [
    "def first_of_months_in_date_range(startDate=date.today(),endDate=date.today()):\n",
    "    months_in_range = [x.split(' ') for x in pd.date_range(startDate, endDate, freq='MS').strftime(\"%Y %m %d\").tolist()]\n",
    "    return months_in_range"
   ]
  },
  {
   "cell_type": "code",
   "execution_count": 8,
   "metadata": {},
   "outputs": [],
   "source": [
    "article_date_range = first_of_months_in_date_range(startDate=startDate,endDate=endDate)\n"
   ]
  },
  {
   "cell_type": "code",
   "execution_count": 9,
   "metadata": {},
   "outputs": [],
   "source": [
    "articles = { # Column headers for dataframe\n",
    "    'id':[],\n",
    "    'date':[],\n",
    "    'url':[],\n",
    "    'headline':[],\n",
    "    'abstract':[],\n",
    "    'leadParagraph':[],\n",
    "    'keywords':[],\n",
    "    'author':[]\n",
    "}"
   ]
  },
  {
   "cell_type": "code",
   "execution_count": 10,
   "metadata": {},
   "outputs": [
    {
     "name": "stdout",
     "output_type": "stream",
     "text": [
      "Exception when assigning data to articles dict: string indices must be integers\n",
      "Exception when assigning data to articles dict: string indices must be integers\n",
      "Exception when assigning data to articles dict: string indices must be integers\n",
      "Exception when assigning data to articles dict: string indices must be integers\n",
      "Exception when assigning data to articles dict: string indices must be integers\n",
      "Exception when assigning data to articles dict: string indices must be integers\n",
      "Exception when assigning data to articles dict: string indices must be integers\n",
      "Exception when assigning data to articles dict: string indices must be integers\n",
      "Exception when assigning data to articles dict: string indices must be integers\n",
      "Exception when assigning data to articles dict: string indices must be integers\n",
      "Exception when assigning data to articles dict: string indices must be integers\n",
      "Exception when assigning data to articles dict: string indices must be integers\n",
      "Exception when assigning data to articles dict: string indices must be integers\n",
      "Exception when assigning data to articles dict: string indices must be integers\n",
      "Exception when assigning data to articles dict: string indices must be integers\n",
      "Exception when assigning data to articles dict: string indices must be integers\n",
      "Exception when assigning data to articles dict: string indices must be integers\n",
      "Exception when assigning data to articles dict: string indices must be integers\n",
      "Exception when assigning data to articles dict: string indices must be integers\n",
      "Exception when assigning data to articles dict: string indices must be integers\n",
      "Exception when assigning data to articles dict: string indices must be integers\n",
      "Exception when assigning data to articles dict: string indices must be integers\n",
      "Exception when assigning data to articles dict: string indices must be integers\n",
      "Exception when assigning data to articles dict: string indices must be integers\n",
      "Exception when assigning data to articles dict: string indices must be integers\n",
      "Exception when assigning data to articles dict: string indices must be integers\n",
      "Exception when assigning data to articles dict: string indices must be integers\n",
      "Exception when assigning data to articles dict: string indices must be integers\n",
      "Exception when assigning data to articles dict: string indices must be integers\n",
      "Exception when assigning data to articles dict: string indices must be integers\n",
      "Exception when assigning data to articles dict: string indices must be integers\n",
      "Exception when assigning data to articles dict: string indices must be integers\n",
      "Exception when assigning data to articles dict: string indices must be integers\n",
      "Exception when assigning data to articles dict: string indices must be integers\n",
      "Exception when assigning data to articles dict: string indices must be integers\n",
      "Exception when assigning data to articles dict: string indices must be integers\n",
      "Exception when assigning data to articles dict: string indices must be integers\n",
      "Exception when assigning data to articles dict: string indices must be integers\n",
      "Exception when assigning data to articles dict: string indices must be integers\n",
      "Exception when assigning data to articles dict: string indices must be integers\n",
      "Exception when assigning data to articles dict: string indices must be integers\n",
      "Exception when assigning data to articles dict: string indices must be integers\n",
      "Exception when assigning data to articles dict: string indices must be integers\n",
      "Exception when assigning data to articles dict: string indices must be integers\n",
      "Exception when assigning data to articles dict: string indices must be integers\n"
     ]
    }
   ],
   "source": [
    "y = 1\n",
    "b = tuple()\n",
    "for d in article_date_range: # requests articles for every month in the range of startDate to endDate variables defined above. Filters by has_headline\n",
    "    year, month, day  = int(d[0]), int(d[1]), int(d[2])\n",
    "    a = request_articles(date(year,month,day)) # Hands back either the request json \n",
    "    if type(a) == type(b):\n",
    "        print(f'REQUEST ERROR: {a[0]}')\n",
    "    else:\n",
    "        for article in a:\n",
    "            for i in range(1,len(article)):\n",
    "                try:\n",
    "                    articles['index']         = y\n",
    "                    articles['id']            = article[i]['_id']\n",
    "                    articles['date']          = article[i]['pub_date']\n",
    "                    articles['url']           = article[i]['web_url']\n",
    "                    articles['headline']      = article[i]['headline']\n",
    "                    articles['abstract']      = article[i]['abstract']\n",
    "                    articles['leadParagraph'] = article[i]['lead_paragraph']\n",
    "                    articles['keywords']      = article[i]['keywords']\n",
    "                    articles['author']        = article[i]['byline']\n",
    "                except Exception as e:\n",
    "                    print(f'Exception when assigning data to articles dict: {e}')\n",
    "            y += 1"
   ]
  },
  {
   "cell_type": "code",
   "execution_count": 11,
   "metadata": {},
   "outputs": [
    {
     "data": {
      "text/html": [
       "<div>\n",
       "<style scoped>\n",
       "    .dataframe tbody tr th:only-of-type {\n",
       "        vertical-align: middle;\n",
       "    }\n",
       "\n",
       "    .dataframe tbody tr th {\n",
       "        vertical-align: top;\n",
       "    }\n",
       "\n",
       "    .dataframe thead th {\n",
       "        text-align: right;\n",
       "    }\n",
       "</style>\n",
       "<table border=\"1\" class=\"dataframe\">\n",
       "  <thead>\n",
       "    <tr style=\"text-align: right;\">\n",
       "      <th></th>\n",
       "      <th>id</th>\n",
       "      <th>date</th>\n",
       "      <th>url</th>\n",
       "      <th>headline</th>\n",
       "      <th>abstract</th>\n",
       "      <th>leadParagraph</th>\n",
       "      <th>keywords</th>\n",
       "      <th>author</th>\n",
       "      <th>index</th>\n",
       "    </tr>\n",
       "  </thead>\n",
       "  <tbody>\n",
       "  </tbody>\n",
       "</table>\n",
       "</div>"
      ],
      "text/plain": [
       "Empty DataFrame\n",
       "Columns: [id, date, url, headline, abstract, leadParagraph, keywords, author, index]\n",
       "Index: []"
      ]
     },
     "execution_count": 11,
     "metadata": {},
     "output_type": "execute_result"
    }
   ],
   "source": [
    "allArticlesDataFrame = pd.DataFrame(data=articles,index=articles['date'])\n",
    "allArticlesDataFrame.head()"
   ]
  },
  {
   "cell_type": "code",
   "execution_count": 12,
   "metadata": {},
   "outputs": [],
   "source": [
    "_ = allArticlesDataFrame.to_csv('articles.csv')"
   ]
  }
 ],
 "metadata": {
  "interpreter": {
   "hash": "02c2ae7a6e84caf918063aba9c6693b0f4c9ae1c06cd2d53e0c72293d7182a81"
  },
  "kernelspec": {
   "display_name": "Python 3.10.5 ('env': venv)",
   "language": "python",
   "name": "python3"
  },
  "language_info": {
   "codemirror_mode": {
    "name": "ipython",
    "version": 3
   },
   "file_extension": ".py",
   "mimetype": "text/x-python",
   "name": "python",
   "nbconvert_exporter": "python",
   "pygments_lexer": "ipython3",
   "version": "3.10.5"
  },
  "orig_nbformat": 4
 },
 "nbformat": 4,
 "nbformat_minor": 2
}
