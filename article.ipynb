{
 "cells": [
  {
   "cell_type": "code",
   "execution_count": 44,
   "metadata": {},
   "outputs": [],
   "source": [
    "# Modules\n",
    "import pandas as pd\n",
    "import requests\n",
    "import matplotlib as plt\n",
    "import json\n",
    "import time\n",
    "from datetime import date\n",
    "from dateutil.relativedelta import relativedelta"
   ]
  },
  {
   "cell_type": "code",
   "execution_count": 45,
   "metadata": {},
   "outputs": [],
   "source": [
    "# API Key\n",
    "from keys import NY_Times_API_KEY"
   ]
  },
  {
   "cell_type": "code",
   "execution_count": 46,
   "metadata": {},
   "outputs": [],
   "source": [
    "# Request Settings\n",
    "from settings import startDate, endDate"
   ]
  },
  {
   "cell_type": "code",
   "execution_count": 47,
   "metadata": {},
   "outputs": [],
   "source": [
    "# Base URLs\n",
    "\n",
    "NY_Times_ARCHIVE_BASE_URL = 'https://api.nytimes.com/svc/archive/v1/'#YYYY/MM.json?api-key=\n",
    "NY_Times_ARTICLE_SEARCH_BASE_URL = 'https://api.nytimes.com/svc/search/v2/articlesearch.json?q='"
   ]
  },
  {
   "cell_type": "markdown",
   "metadata": {},
   "source": [
    "Hypothesis: Articles released by the NY Times influence the performance of stock symbols.\n",
    "Null Hypothesis: Articles released by the NY Times have no correlation with the performance of stock symbols."
   ]
  },
  {
   "cell_type": "code",
   "execution_count": 48,
   "metadata": {},
   "outputs": [],
   "source": [
    "def request_articles(date):\n",
    "    base = NY_Times_ARCHIVE_BASE_URL\n",
    "    url = f'{base}{date.year}/{date.month}.json?api-key={NY_Times_API_KEY}'\n",
    "    try:\n",
    "        req = requests.get(url).json()\n",
    "    except Exception as e:\n",
    "        return (e,'')\n",
    "    time.sleep(5)\n",
    "    return req"
   ]
  },
  {
   "cell_type": "code",
   "execution_count": 49,
   "metadata": {},
   "outputs": [],
   "source": [
    "def has_headline(article):\n",
    "    article_has_headline = type(article[ 'headline']) == dict and 'main' in article['headline'].keys()\n",
    "    return article_has_headline"
   ]
  },
  {
   "cell_type": "code",
   "execution_count": 50,
   "metadata": {},
   "outputs": [],
   "source": [
    "def first_of_months_in_date_range(startDate=date.today(),endDate=date.today()):\n",
    "    months_in_range = [x.split(' ') for x in pd.date_range(startDate, endDate, freq='MS').strftime(\"%Y %m %d\").tolist()]\n",
    "    return months_in_range"
   ]
  },
  {
   "cell_type": "code",
   "execution_count": 51,
   "metadata": {},
   "outputs": [],
   "source": [
    "article_date_range = first_of_months_in_date_range(startDate=startDate,endDate=endDate)\n"
   ]
  },
  {
   "cell_type": "code",
   "execution_count": 52,
   "metadata": {},
   "outputs": [],
   "source": [
    "articles = { # Column headers for dataframe\n",
    "    'id':[],\n",
    "    'date':[],\n",
    "    'url':[],\n",
    "    'headline':[],\n",
    "    'abstract':[],\n",
    "    'leadParagraph':[],\n",
    "    'keywords':[],\n",
    "    'author':[]\n",
    "}"
   ]
  },
  {
   "cell_type": "code",
   "execution_count": 53,
   "metadata": {},
   "outputs": [],
   "source": [
    "y = 1\n",
    "b = tuple()\n",
    "for d in article_date_range: # requests articles for every month in the range of startDate to endDate variables defined above. Filters by has_headline\n",
    "    year, month, day  = int(d[0]), int(d[1]), int(d[2])\n",
    "    article = request_articles(date(year,month,day))['response']['docs']\n",
    "    if type(article) == type(b): # If article is returned as a tuple, its because request_articles ran into an error. (errorMessage,json)\n",
    "        print(f'REQUEST ERROR: {article[0]}')\n",
    "    else:\n",
    "        for i in range(1,len(article)):\n",
    "            # try:\n",
    "            articles['index'].append(y)\n",
    "            articles['id'].append(article[i]['_id'])\n",
    "            articles['date'].append(article[i]['pub_date'])\n",
    "            articles['url'].append(article[i]['web_url'])\n",
    "            articles['headline'].append(article[i]['headline'])\n",
    "            articles['abstract'].append(article[i]['abstract'])\n",
    "            articles['leadParagraph'].append(article[i]['lead_paragraph'])\n",
    "            articles['keywords'].append(article[i]['keywords'])\n",
    "            articles['author'].append(article[i]['byline'])\n",
    "                # except Exception as e:\n",
    "                #     print(f'Exception when assigning data to articles dict: {e}')\n",
    "            y += 1"
   ]
  },
  {
   "cell_type": "code",
   "execution_count": 54,
   "metadata": {},
   "outputs": [],
   "source": [
    "# a['response']['docs'][2]"
   ]
  },
  {
   "cell_type": "code",
   "execution_count": 57,
   "metadata": {},
   "outputs": [
    {
     "data": {
      "text/plain": [
       "{'id': 'nyt://article/6a4fbc8d-a0fc-50b7-934a-b96fc4abf30b',\n",
       " 'date': '2021-03-31T23:11:05+0000',\n",
       " 'url': 'https://www.nytimes.com/2021/03/31/us/minnesota-supreme-court-rape-ruling.html',\n",
       " 'headline': {'main': 'Minnesota Court Ruling Fuels Calls to Change Sexual Assault Law',\n",
       "  'kicker': None,\n",
       "  'content_kicker': None,\n",
       "  'print_headline': '',\n",
       "  'name': None,\n",
       "  'seo': None,\n",
       "  'sub': None},\n",
       " 'abstract': 'The state Supreme Court tossed out a man’s conviction on a third-degree sexual conduct charge because the woman he was accused of assaulting was “voluntarily intoxicated” at the time.',\n",
       " 'leadParagraph': 'On the night of May 13, 2017, a woman consumed five shots of vodka and a prescription narcotic before heading to the Dinkytown neighborhood of Minneapolis with a friend. After a bar turned them away, they met three men who invited them to a party.',\n",
       " 'keywords': [{'name': 'subject',\n",
       "   'value': 'Law and Legislation',\n",
       "   'rank': 1,\n",
       "   'major': 'N'},\n",
       "  {'name': 'subject', 'value': 'State Legislatures', 'rank': 2, 'major': 'N'},\n",
       "  {'name': 'subject', 'value': \"Women's Rights\", 'rank': 3, 'major': 'N'},\n",
       "  {'name': 'subject', 'value': 'Sex Crimes', 'rank': 4, 'major': 'N'},\n",
       "  {'name': 'subject',\n",
       "   'value': 'Supreme Courts (State)',\n",
       "   'rank': 5,\n",
       "   'major': 'N'},\n",
       "  {'name': 'glocations', 'value': 'Minnesota', 'rank': 6, 'major': 'N'},\n",
       "  {'name': 'subject',\n",
       "   'value': 'Decisions and Verdicts',\n",
       "   'rank': 7,\n",
       "   'major': 'N'},\n",
       "  {'name': 'subject',\n",
       "   'value': 'Politics and Government',\n",
       "   'rank': 8,\n",
       "   'major': 'N'},\n",
       "  {'name': 'subject', 'value': 'Women and Girls', 'rank': 9, 'major': 'N'}],\n",
       " 'author': {'original': 'By Christina Morales',\n",
       "  'person': [{'firstname': 'Christina',\n",
       "    'middlename': None,\n",
       "    'lastname': 'Morales',\n",
       "    'qualifier': None,\n",
       "    'title': None,\n",
       "    'role': 'reported',\n",
       "    'organization': '',\n",
       "    'rank': 1}],\n",
       "  'organization': None},\n",
       " 'index': 16044}"
      ]
     },
     "execution_count": 57,
     "metadata": {},
     "output_type": "execute_result"
    }
   ],
   "source": [
    "articles"
   ]
  },
  {
   "cell_type": "code",
   "execution_count": 56,
   "metadata": {},
   "outputs": [
    {
     "ename": "ValueError",
     "evalue": "Mixing dicts with non-Series may lead to ambiguous ordering.",
     "output_type": "error",
     "traceback": [
      "\u001b[1;31m---------------------------------------------------------------------------\u001b[0m",
      "\u001b[1;31mValueError\u001b[0m                                Traceback (most recent call last)",
      "\u001b[1;32mc:\\Users\\vsmit\\Desktop\\Portfolio\\NY-Times-vs-Stocks\\article.ipynb Cell 13'\u001b[0m in \u001b[0;36m<cell line: 1>\u001b[1;34m()\u001b[0m\n\u001b[1;32m----> <a href='vscode-notebook-cell:/c%3A/Users/vsmit/Desktop/Portfolio/NY-Times-vs-Stocks/article.ipynb#ch0000011?line=0'>1</a>\u001b[0m allArticlesDataFrame \u001b[39m=\u001b[39m pd\u001b[39m.\u001b[39;49mDataFrame(data\u001b[39m=\u001b[39;49marticles)\n\u001b[0;32m      <a href='vscode-notebook-cell:/c%3A/Users/vsmit/Desktop/Portfolio/NY-Times-vs-Stocks/article.ipynb#ch0000011?line=1'>2</a>\u001b[0m allArticlesDataFrame\u001b[39m.\u001b[39mhead()\n",
      "File \u001b[1;32mc:\\Users\\vsmit\\Desktop\\Portfolio\\NY-Times-vs-Stocks\\env\\lib\\site-packages\\pandas\\core\\frame.py:636\u001b[0m, in \u001b[0;36mDataFrame.__init__\u001b[1;34m(self, data, index, columns, dtype, copy)\u001b[0m\n\u001b[0;32m    <a href='file:///c%3A/Users/vsmit/Desktop/Portfolio/NY-Times-vs-Stocks/env/lib/site-packages/pandas/core/frame.py?line=629'>630</a>\u001b[0m     mgr \u001b[39m=\u001b[39m \u001b[39mself\u001b[39m\u001b[39m.\u001b[39m_init_mgr(\n\u001b[0;32m    <a href='file:///c%3A/Users/vsmit/Desktop/Portfolio/NY-Times-vs-Stocks/env/lib/site-packages/pandas/core/frame.py?line=630'>631</a>\u001b[0m         data, axes\u001b[39m=\u001b[39m{\u001b[39m\"\u001b[39m\u001b[39mindex\u001b[39m\u001b[39m\"\u001b[39m: index, \u001b[39m\"\u001b[39m\u001b[39mcolumns\u001b[39m\u001b[39m\"\u001b[39m: columns}, dtype\u001b[39m=\u001b[39mdtype, copy\u001b[39m=\u001b[39mcopy\n\u001b[0;32m    <a href='file:///c%3A/Users/vsmit/Desktop/Portfolio/NY-Times-vs-Stocks/env/lib/site-packages/pandas/core/frame.py?line=631'>632</a>\u001b[0m     )\n\u001b[0;32m    <a href='file:///c%3A/Users/vsmit/Desktop/Portfolio/NY-Times-vs-Stocks/env/lib/site-packages/pandas/core/frame.py?line=633'>634</a>\u001b[0m \u001b[39melif\u001b[39;00m \u001b[39misinstance\u001b[39m(data, \u001b[39mdict\u001b[39m):\n\u001b[0;32m    <a href='file:///c%3A/Users/vsmit/Desktop/Portfolio/NY-Times-vs-Stocks/env/lib/site-packages/pandas/core/frame.py?line=634'>635</a>\u001b[0m     \u001b[39m# GH#38939 de facto copy defaults to False only in non-dict cases\u001b[39;00m\n\u001b[1;32m--> <a href='file:///c%3A/Users/vsmit/Desktop/Portfolio/NY-Times-vs-Stocks/env/lib/site-packages/pandas/core/frame.py?line=635'>636</a>\u001b[0m     mgr \u001b[39m=\u001b[39m dict_to_mgr(data, index, columns, dtype\u001b[39m=\u001b[39;49mdtype, copy\u001b[39m=\u001b[39;49mcopy, typ\u001b[39m=\u001b[39;49mmanager)\n\u001b[0;32m    <a href='file:///c%3A/Users/vsmit/Desktop/Portfolio/NY-Times-vs-Stocks/env/lib/site-packages/pandas/core/frame.py?line=636'>637</a>\u001b[0m \u001b[39melif\u001b[39;00m \u001b[39misinstance\u001b[39m(data, ma\u001b[39m.\u001b[39mMaskedArray):\n\u001b[0;32m    <a href='file:///c%3A/Users/vsmit/Desktop/Portfolio/NY-Times-vs-Stocks/env/lib/site-packages/pandas/core/frame.py?line=637'>638</a>\u001b[0m     \u001b[39mimport\u001b[39;00m \u001b[39mnumpy\u001b[39;00m\u001b[39m.\u001b[39;00m\u001b[39mma\u001b[39;00m\u001b[39m.\u001b[39;00m\u001b[39mmrecords\u001b[39;00m \u001b[39mas\u001b[39;00m \u001b[39mmrecords\u001b[39;00m\n",
      "File \u001b[1;32mc:\\Users\\vsmit\\Desktop\\Portfolio\\NY-Times-vs-Stocks\\env\\lib\\site-packages\\pandas\\core\\internals\\construction.py:502\u001b[0m, in \u001b[0;36mdict_to_mgr\u001b[1;34m(data, index, columns, dtype, typ, copy)\u001b[0m\n\u001b[0;32m    <a href='file:///c%3A/Users/vsmit/Desktop/Portfolio/NY-Times-vs-Stocks/env/lib/site-packages/pandas/core/internals/construction.py?line=493'>494</a>\u001b[0m     arrays \u001b[39m=\u001b[39m [\n\u001b[0;32m    <a href='file:///c%3A/Users/vsmit/Desktop/Portfolio/NY-Times-vs-Stocks/env/lib/site-packages/pandas/core/internals/construction.py?line=494'>495</a>\u001b[0m         x\n\u001b[0;32m    <a href='file:///c%3A/Users/vsmit/Desktop/Portfolio/NY-Times-vs-Stocks/env/lib/site-packages/pandas/core/internals/construction.py?line=495'>496</a>\u001b[0m         \u001b[39mif\u001b[39;00m \u001b[39mnot\u001b[39;00m \u001b[39mhasattr\u001b[39m(x, \u001b[39m\"\u001b[39m\u001b[39mdtype\u001b[39m\u001b[39m\"\u001b[39m) \u001b[39mor\u001b[39;00m \u001b[39mnot\u001b[39;00m \u001b[39misinstance\u001b[39m(x\u001b[39m.\u001b[39mdtype, ExtensionDtype)\n\u001b[0;32m    <a href='file:///c%3A/Users/vsmit/Desktop/Portfolio/NY-Times-vs-Stocks/env/lib/site-packages/pandas/core/internals/construction.py?line=496'>497</a>\u001b[0m         \u001b[39melse\u001b[39;00m x\u001b[39m.\u001b[39mcopy()\n\u001b[0;32m    <a href='file:///c%3A/Users/vsmit/Desktop/Portfolio/NY-Times-vs-Stocks/env/lib/site-packages/pandas/core/internals/construction.py?line=497'>498</a>\u001b[0m         \u001b[39mfor\u001b[39;00m x \u001b[39min\u001b[39;00m arrays\n\u001b[0;32m    <a href='file:///c%3A/Users/vsmit/Desktop/Portfolio/NY-Times-vs-Stocks/env/lib/site-packages/pandas/core/internals/construction.py?line=498'>499</a>\u001b[0m     ]\n\u001b[0;32m    <a href='file:///c%3A/Users/vsmit/Desktop/Portfolio/NY-Times-vs-Stocks/env/lib/site-packages/pandas/core/internals/construction.py?line=499'>500</a>\u001b[0m     \u001b[39m# TODO: can we get rid of the dt64tz special case above?\u001b[39;00m\n\u001b[1;32m--> <a href='file:///c%3A/Users/vsmit/Desktop/Portfolio/NY-Times-vs-Stocks/env/lib/site-packages/pandas/core/internals/construction.py?line=501'>502</a>\u001b[0m \u001b[39mreturn\u001b[39;00m arrays_to_mgr(arrays, columns, index, dtype\u001b[39m=\u001b[39;49mdtype, typ\u001b[39m=\u001b[39;49mtyp, consolidate\u001b[39m=\u001b[39;49mcopy)\n",
      "File \u001b[1;32mc:\\Users\\vsmit\\Desktop\\Portfolio\\NY-Times-vs-Stocks\\env\\lib\\site-packages\\pandas\\core\\internals\\construction.py:120\u001b[0m, in \u001b[0;36marrays_to_mgr\u001b[1;34m(arrays, columns, index, dtype, verify_integrity, typ, consolidate)\u001b[0m\n\u001b[0;32m    <a href='file:///c%3A/Users/vsmit/Desktop/Portfolio/NY-Times-vs-Stocks/env/lib/site-packages/pandas/core/internals/construction.py?line=116'>117</a>\u001b[0m \u001b[39mif\u001b[39;00m verify_integrity:\n\u001b[0;32m    <a href='file:///c%3A/Users/vsmit/Desktop/Portfolio/NY-Times-vs-Stocks/env/lib/site-packages/pandas/core/internals/construction.py?line=117'>118</a>\u001b[0m     \u001b[39m# figure out the index, if necessary\u001b[39;00m\n\u001b[0;32m    <a href='file:///c%3A/Users/vsmit/Desktop/Portfolio/NY-Times-vs-Stocks/env/lib/site-packages/pandas/core/internals/construction.py?line=118'>119</a>\u001b[0m     \u001b[39mif\u001b[39;00m index \u001b[39mis\u001b[39;00m \u001b[39mNone\u001b[39;00m:\n\u001b[1;32m--> <a href='file:///c%3A/Users/vsmit/Desktop/Portfolio/NY-Times-vs-Stocks/env/lib/site-packages/pandas/core/internals/construction.py?line=119'>120</a>\u001b[0m         index \u001b[39m=\u001b[39m _extract_index(arrays)\n\u001b[0;32m    <a href='file:///c%3A/Users/vsmit/Desktop/Portfolio/NY-Times-vs-Stocks/env/lib/site-packages/pandas/core/internals/construction.py?line=120'>121</a>\u001b[0m     \u001b[39melse\u001b[39;00m:\n\u001b[0;32m    <a href='file:///c%3A/Users/vsmit/Desktop/Portfolio/NY-Times-vs-Stocks/env/lib/site-packages/pandas/core/internals/construction.py?line=121'>122</a>\u001b[0m         index \u001b[39m=\u001b[39m ensure_index(index)\n",
      "File \u001b[1;32mc:\\Users\\vsmit\\Desktop\\Portfolio\\NY-Times-vs-Stocks\\env\\lib\\site-packages\\pandas\\core\\internals\\construction.py:677\u001b[0m, in \u001b[0;36m_extract_index\u001b[1;34m(data)\u001b[0m\n\u001b[0;32m    <a href='file:///c%3A/Users/vsmit/Desktop/Portfolio/NY-Times-vs-Stocks/env/lib/site-packages/pandas/core/internals/construction.py?line=673'>674</a>\u001b[0m     \u001b[39mraise\u001b[39;00m \u001b[39mValueError\u001b[39;00m(\u001b[39m\"\u001b[39m\u001b[39mAll arrays must be of the same length\u001b[39m\u001b[39m\"\u001b[39m)\n\u001b[0;32m    <a href='file:///c%3A/Users/vsmit/Desktop/Portfolio/NY-Times-vs-Stocks/env/lib/site-packages/pandas/core/internals/construction.py?line=675'>676</a>\u001b[0m \u001b[39mif\u001b[39;00m have_dicts:\n\u001b[1;32m--> <a href='file:///c%3A/Users/vsmit/Desktop/Portfolio/NY-Times-vs-Stocks/env/lib/site-packages/pandas/core/internals/construction.py?line=676'>677</a>\u001b[0m     \u001b[39mraise\u001b[39;00m \u001b[39mValueError\u001b[39;00m(\n\u001b[0;32m    <a href='file:///c%3A/Users/vsmit/Desktop/Portfolio/NY-Times-vs-Stocks/env/lib/site-packages/pandas/core/internals/construction.py?line=677'>678</a>\u001b[0m         \u001b[39m\"\u001b[39m\u001b[39mMixing dicts with non-Series may lead to ambiguous ordering.\u001b[39m\u001b[39m\"\u001b[39m\n\u001b[0;32m    <a href='file:///c%3A/Users/vsmit/Desktop/Portfolio/NY-Times-vs-Stocks/env/lib/site-packages/pandas/core/internals/construction.py?line=678'>679</a>\u001b[0m     )\n\u001b[0;32m    <a href='file:///c%3A/Users/vsmit/Desktop/Portfolio/NY-Times-vs-Stocks/env/lib/site-packages/pandas/core/internals/construction.py?line=680'>681</a>\u001b[0m \u001b[39mif\u001b[39;00m have_series:\n\u001b[0;32m    <a href='file:///c%3A/Users/vsmit/Desktop/Portfolio/NY-Times-vs-Stocks/env/lib/site-packages/pandas/core/internals/construction.py?line=681'>682</a>\u001b[0m     \u001b[39massert\u001b[39;00m index \u001b[39mis\u001b[39;00m \u001b[39mnot\u001b[39;00m \u001b[39mNone\u001b[39;00m  \u001b[39m# for mypy\u001b[39;00m\n",
      "\u001b[1;31mValueError\u001b[0m: Mixing dicts with non-Series may lead to ambiguous ordering."
     ]
    }
   ],
   "source": [
    "allArticlesDataFrame = pd.DataFrame(data=articles)\n",
    "allArticlesDataFrame.head()"
   ]
  },
  {
   "cell_type": "code",
   "execution_count": null,
   "metadata": {},
   "outputs": [],
   "source": [
    "_ = allArticlesDataFrame.to_csv('articles.csv')"
   ]
  }
 ],
 "metadata": {
  "interpreter": {
   "hash": "02c2ae7a6e84caf918063aba9c6693b0f4c9ae1c06cd2d53e0c72293d7182a81"
  },
  "kernelspec": {
   "display_name": "Python 3.10.5 ('env': venv)",
   "language": "python",
   "name": "python3"
  },
  "language_info": {
   "codemirror_mode": {
    "name": "ipython",
    "version": 3
   },
   "file_extension": ".py",
   "mimetype": "text/x-python",
   "name": "python",
   "nbconvert_exporter": "python",
   "pygments_lexer": "ipython3",
   "version": "3.10.5"
  },
  "orig_nbformat": 4
 },
 "nbformat": 4,
 "nbformat_minor": 2
}
