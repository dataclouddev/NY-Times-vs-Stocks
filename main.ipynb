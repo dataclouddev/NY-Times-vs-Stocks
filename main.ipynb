{
 "cells": [
  {
   "cell_type": "code",
   "execution_count": 168,
   "metadata": {},
   "outputs": [],
   "source": [
    "# Modules\n",
    "import pandas as pd\n",
    "import requests\n",
    "import matplotlib as plt\n",
    "import json\n",
    "import time\n",
    "from datetime import date\n",
    "from dateutil.relativedelta import relativedelta"
   ]
  },
  {
   "cell_type": "code",
   "execution_count": 178,
   "metadata": {},
   "outputs": [],
   "source": [
    "# API Keys\n",
    "from keys import MARKET_STACK_API_KEY, NY_Times_API_KEY, NY_Times_API_SECRET_KEY\n",
    "\n",
    "params = {\n",
    "  'access_key': MARKET_STACK_API_KEY\n",
    "}"
   ]
  },
  {
   "cell_type": "code",
   "execution_count": 170,
   "metadata": {},
   "outputs": [],
   "source": [
    "# Base URLs\n",
    "MARKET_STACK_BASE_URL = 'http://api.marketstack.com/v1/'\n",
    "NY_Times_ARCHIVE_BASE_URL = 'https://api.nytimes.com/svc/archive/v1/'#YYYY/MM.json?api-key=\n",
    "NY_Times_ARTICLE_SEARCH_BASE_URL = 'https://api.nytimes.com/svc/search/v2/articlesearch.json?q='"
   ]
  },
  {
   "cell_type": "markdown",
   "metadata": {},
   "source": [
    "Hypothesis: Articles released by the NY Times influence the performance of stock symbols.\n",
    "Null Hypothesis: Articles released by the NY Times have no correlation with the performance of stock symbols."
   ]
  },
  {
   "cell_type": "code",
   "execution_count": 171,
   "metadata": {},
   "outputs": [],
   "source": [
    "def request_articles(date):\n",
    "    base = NY_Times_ARCHIVE_BASE_URL\n",
    "    url = f'{base}{date.year}/{date.month}.json?api-key={NY_Times_API_KEY}'\n",
    "    try:\n",
    "        req = requests.get(url).json()\n",
    "    except Exception as e:\n",
    "        return (e,'')\n",
    "    time.sleep(5)\n",
    "    return req"
   ]
  },
  {
   "cell_type": "code",
   "execution_count": 172,
   "metadata": {},
   "outputs": [],
   "source": [
    "def has_headline(article):\n",
    "    article_has_headline = type(article[ 'headline']) == dict and 'main' in article['headline'].keys()\n",
    "    return article_has_headline"
   ]
  },
  {
   "cell_type": "code",
   "execution_count": 173,
   "metadata": {},
   "outputs": [],
   "source": [
    "def first_of_months_in_date_range(startDate=date.today(),endDate=date.today()):\n",
    "    months_in_range = [x.split(' ') for x in pd.date_range(startDate, endDate, freq='MS').strftime(\"%Y %m %d\").tolist()]\n",
    "    return months_in_range"
   ]
  },
  {
   "cell_type": "code",
   "execution_count": 204,
   "metadata": {},
   "outputs": [],
   "source": [
    "def request_ticker(tickerSymbol,tickerDate=None,params=params):\n",
    "    data = {\n",
    "        'date':[],\n",
    "        'symbol':[],\n",
    "        'high':[],\n",
    "        'low':[],\n",
    "        'close':[],\n",
    "        'volume':[],\n",
    "        'dividend':[],\n",
    "        'split-factor':[],\n",
    "        'exchange':[]\n",
    "    }\n",
    "    try:\n",
    "        api_result   = requests.get(f'http://api.marketstack.com/v1/tickers/{tickerSymbol}/eod/{tickerDate}', params) #/tickers/[symbol]/eod/[date] YYYY-MM-DD\n",
    "    except Exception as e:\n",
    "        print(f'API REQUEST FAILED: {api_result.status_code}')\n",
    "        print(f'TICKER SYMBOL: {tickerSymbol} | DATE: {tickerDate}')\n",
    "        return [e,api_result]\n",
    "    stock_data = api_result.json()\n",
    "    # return stock_data\n",
    "    data['date']         = stock_data['date']\n",
    "    data['tickerSymbol'] = stock_data['symbol']\n",
    "    data['high']         = stock_data['high']\n",
    "    data['low']          = stock_data['low']\n",
    "    data['close']        = stock_data['close']\n",
    "    data['volume']       = stock_data['volume']\n",
    "    data['dividend']     = stock_data['dividend']\n",
    "    data['split-factor'] = stock_data['split_factor']\n",
    "    data['exchange']     = stock_data['exchange']\n",
    "    return data"
   ]
  },
  {
   "cell_type": "code",
   "execution_count": 184,
   "metadata": {},
   "outputs": [],
   "source": [
    "startDate = date(2021,1,1) #(YYYY, MM, DD)\n",
    "endDate   = date(2021,3,1)\n",
    "tickers = [\n",
    "    'AAPL',\n",
    "    'MSFT',\n",
    "    'META'\n",
    "]"
   ]
  },
  {
   "cell_type": "code",
   "execution_count": 175,
   "metadata": {},
   "outputs": [],
   "source": [
    "date_range = first_of_months_in_date_range(startDate=startDate,endDate=endDate)"
   ]
  },
  {
   "cell_type": "code",
   "execution_count": 176,
   "metadata": {},
   "outputs": [],
   "source": [
    "articles = { # Column headers for dataframe\n",
    "    'id':[],\n",
    "    'date':[],\n",
    "    'url':[],\n",
    "    'headline':[],\n",
    "    'abstract':[],\n",
    "    'leadParagraph':[],\n",
    "    'keywords':[],\n",
    "    'author':[]\n",
    "}"
   ]
  },
  {
   "cell_type": "code",
   "execution_count": 177,
   "metadata": {},
   "outputs": [
    {
     "name": "stdout",
     "output_type": "stream",
     "text": [
      "Request Error: HTTPSConnectionPool(host='api.nytimes.com', port=443): Max retries exceeded with url: /svc/archive/v1/2021/1.json?api-key=16Yx1EgtPXYKbhzeDX8YHhBIqS5cA7dL (Caused by ConnectTimeoutError(<urllib3.connection.HTTPSConnection object at 0x000001C81550A7A0>, 'Connection to api.nytimes.com timed out. (connect timeout=None)'))\n",
      "Request Error: HTTPSConnectionPool(host='api.nytimes.com', port=443): Max retries exceeded with url: /svc/archive/v1/2021/2.json?api-key=16Yx1EgtPXYKbhzeDX8YHhBIqS5cA7dL (Caused by ConnectTimeoutError(<urllib3.connection.HTTPSConnection object at 0x000001C81550BC10>, 'Connection to api.nytimes.com timed out. (connect timeout=None)'))\n"
     ]
    },
    {
     "ename": "KeyboardInterrupt",
     "evalue": "",
     "output_type": "error",
     "traceback": [
      "\u001b[1;31m---------------------------------------------------------------------------\u001b[0m",
      "\u001b[1;31mTimeoutError\u001b[0m                              Traceback (most recent call last)",
      "File \u001b[1;32mc:\\Users\\vsmit\\Desktop\\Portfolio\\NY-Times-vs-Stocks\\env\\lib\\site-packages\\urllib3\\util\\connection.py:85\u001b[0m, in \u001b[0;36mcreate_connection\u001b[1;34m(address, timeout, source_address, socket_options)\u001b[0m\n\u001b[0;32m     <a href='file:///c%3A/Users/vsmit/Desktop/Portfolio/NY-Times-vs-Stocks/env/lib/site-packages/urllib3/util/connection.py?line=83'>84</a>\u001b[0m     sock\u001b[39m.\u001b[39mbind(source_address)\n\u001b[1;32m---> <a href='file:///c%3A/Users/vsmit/Desktop/Portfolio/NY-Times-vs-Stocks/env/lib/site-packages/urllib3/util/connection.py?line=84'>85</a>\u001b[0m sock\u001b[39m.\u001b[39;49mconnect(sa)\n\u001b[0;32m     <a href='file:///c%3A/Users/vsmit/Desktop/Portfolio/NY-Times-vs-Stocks/env/lib/site-packages/urllib3/util/connection.py?line=85'>86</a>\u001b[0m \u001b[39mreturn\u001b[39;00m sock\n",
      "\u001b[1;31mTimeoutError\u001b[0m: [WinError 10060] A connection attempt failed because the connected party did not properly respond after a period of time, or established connection failed because connected host has failed to respond",
      "\nDuring handling of the above exception, another exception occurred:\n",
      "\u001b[1;31mKeyboardInterrupt\u001b[0m                         Traceback (most recent call last)",
      "\u001b[1;32mc:\\Users\\vsmit\\Desktop\\Portfolio\\NY-Times-vs-Stocks\\main.ipynb Cell 11'\u001b[0m in \u001b[0;36m<cell line: 3>\u001b[1;34m()\u001b[0m\n\u001b[0;32m      <a href='vscode-notebook-cell:/c%3A/Users/vsmit/Desktop/Portfolio/NY-Times-vs-Stocks/main.ipynb#ch0000016?line=2'>3</a>\u001b[0m \u001b[39mfor\u001b[39;00m d \u001b[39min\u001b[39;00m date_range: \u001b[39m# requests articles for every month in the range of startDate to endDate variables defined above. Filters by has_headline\u001b[39;00m\n\u001b[0;32m      <a href='vscode-notebook-cell:/c%3A/Users/vsmit/Desktop/Portfolio/NY-Times-vs-Stocks/main.ipynb#ch0000016?line=3'>4</a>\u001b[0m     year, month, day  \u001b[39m=\u001b[39m \u001b[39mint\u001b[39m(d[\u001b[39m0\u001b[39m]), \u001b[39mint\u001b[39m(d[\u001b[39m1\u001b[39m]), \u001b[39mint\u001b[39m(d[\u001b[39m2\u001b[39m])\n\u001b[1;32m----> <a href='vscode-notebook-cell:/c%3A/Users/vsmit/Desktop/Portfolio/NY-Times-vs-Stocks/main.ipynb#ch0000016?line=4'>5</a>\u001b[0m     a \u001b[39m=\u001b[39m request_articles(date(year,month,day)) \u001b[39m# Hands back either the request json \u001b[39;00m\n\u001b[0;32m      <a href='vscode-notebook-cell:/c%3A/Users/vsmit/Desktop/Portfolio/NY-Times-vs-Stocks/main.ipynb#ch0000016?line=5'>6</a>\u001b[0m     \u001b[39mif\u001b[39;00m \u001b[39mtype\u001b[39m(a) \u001b[39m==\u001b[39m \u001b[39mtype\u001b[39m(b):\n\u001b[0;32m      <a href='vscode-notebook-cell:/c%3A/Users/vsmit/Desktop/Portfolio/NY-Times-vs-Stocks/main.ipynb#ch0000016?line=6'>7</a>\u001b[0m         \u001b[39mprint\u001b[39m(\u001b[39mf\u001b[39m\u001b[39m'\u001b[39m\u001b[39mRequest Error: \u001b[39m\u001b[39m{\u001b[39;00ma[\u001b[39m0\u001b[39m]\u001b[39m}\u001b[39;00m\u001b[39m'\u001b[39m)\n",
      "\u001b[1;32mc:\\Users\\vsmit\\Desktop\\Portfolio\\NY-Times-vs-Stocks\\main.ipynb Cell 5'\u001b[0m in \u001b[0;36mrequest_articles\u001b[1;34m(date)\u001b[0m\n\u001b[0;32m      <a href='vscode-notebook-cell:/c%3A/Users/vsmit/Desktop/Portfolio/NY-Times-vs-Stocks/main.ipynb#ch0000009?line=2'>3</a>\u001b[0m url \u001b[39m=\u001b[39m \u001b[39mf\u001b[39m\u001b[39m'\u001b[39m\u001b[39m{\u001b[39;00mbase\u001b[39m}\u001b[39;00m\u001b[39m{\u001b[39;00mdate\u001b[39m.\u001b[39myear\u001b[39m}\u001b[39;00m\u001b[39m/\u001b[39m\u001b[39m{\u001b[39;00mdate\u001b[39m.\u001b[39mmonth\u001b[39m}\u001b[39;00m\u001b[39m.json?api-key=\u001b[39m\u001b[39m{\u001b[39;00mNY_Times_API_KEY\u001b[39m}\u001b[39;00m\u001b[39m'\u001b[39m\n\u001b[0;32m      <a href='vscode-notebook-cell:/c%3A/Users/vsmit/Desktop/Portfolio/NY-Times-vs-Stocks/main.ipynb#ch0000009?line=3'>4</a>\u001b[0m \u001b[39mtry\u001b[39;00m:\n\u001b[1;32m----> <a href='vscode-notebook-cell:/c%3A/Users/vsmit/Desktop/Portfolio/NY-Times-vs-Stocks/main.ipynb#ch0000009?line=4'>5</a>\u001b[0m     req \u001b[39m=\u001b[39m requests\u001b[39m.\u001b[39;49mget(url)\u001b[39m.\u001b[39mjson()\n\u001b[0;32m      <a href='vscode-notebook-cell:/c%3A/Users/vsmit/Desktop/Portfolio/NY-Times-vs-Stocks/main.ipynb#ch0000009?line=5'>6</a>\u001b[0m \u001b[39mexcept\u001b[39;00m \u001b[39mException\u001b[39;00m \u001b[39mas\u001b[39;00m e:\n\u001b[0;32m      <a href='vscode-notebook-cell:/c%3A/Users/vsmit/Desktop/Portfolio/NY-Times-vs-Stocks/main.ipynb#ch0000009?line=6'>7</a>\u001b[0m     \u001b[39mreturn\u001b[39;00m (e,\u001b[39m'\u001b[39m\u001b[39m'\u001b[39m)\n",
      "File \u001b[1;32mc:\\Users\\vsmit\\Desktop\\Portfolio\\NY-Times-vs-Stocks\\env\\lib\\site-packages\\requests\\api.py:73\u001b[0m, in \u001b[0;36mget\u001b[1;34m(url, params, **kwargs)\u001b[0m\n\u001b[0;32m     <a href='file:///c%3A/Users/vsmit/Desktop/Portfolio/NY-Times-vs-Stocks/env/lib/site-packages/requests/api.py?line=61'>62</a>\u001b[0m \u001b[39mdef\u001b[39;00m \u001b[39mget\u001b[39m(url, params\u001b[39m=\u001b[39m\u001b[39mNone\u001b[39;00m, \u001b[39m*\u001b[39m\u001b[39m*\u001b[39mkwargs):\n\u001b[0;32m     <a href='file:///c%3A/Users/vsmit/Desktop/Portfolio/NY-Times-vs-Stocks/env/lib/site-packages/requests/api.py?line=62'>63</a>\u001b[0m     \u001b[39mr\u001b[39m\u001b[39m\"\"\"Sends a GET request.\u001b[39;00m\n\u001b[0;32m     <a href='file:///c%3A/Users/vsmit/Desktop/Portfolio/NY-Times-vs-Stocks/env/lib/site-packages/requests/api.py?line=63'>64</a>\u001b[0m \n\u001b[0;32m     <a href='file:///c%3A/Users/vsmit/Desktop/Portfolio/NY-Times-vs-Stocks/env/lib/site-packages/requests/api.py?line=64'>65</a>\u001b[0m \u001b[39m    :param url: URL for the new :class:`Request` object.\u001b[39;00m\n\u001b[1;32m   (...)\u001b[0m\n\u001b[0;32m     <a href='file:///c%3A/Users/vsmit/Desktop/Portfolio/NY-Times-vs-Stocks/env/lib/site-packages/requests/api.py?line=69'>70</a>\u001b[0m \u001b[39m    :rtype: requests.Response\u001b[39;00m\n\u001b[0;32m     <a href='file:///c%3A/Users/vsmit/Desktop/Portfolio/NY-Times-vs-Stocks/env/lib/site-packages/requests/api.py?line=70'>71</a>\u001b[0m \u001b[39m    \"\"\"\u001b[39;00m\n\u001b[1;32m---> <a href='file:///c%3A/Users/vsmit/Desktop/Portfolio/NY-Times-vs-Stocks/env/lib/site-packages/requests/api.py?line=72'>73</a>\u001b[0m     \u001b[39mreturn\u001b[39;00m request(\u001b[39m\"\u001b[39m\u001b[39mget\u001b[39m\u001b[39m\"\u001b[39m, url, params\u001b[39m=\u001b[39mparams, \u001b[39m*\u001b[39m\u001b[39m*\u001b[39mkwargs)\n",
      "File \u001b[1;32mc:\\Users\\vsmit\\Desktop\\Portfolio\\NY-Times-vs-Stocks\\env\\lib\\site-packages\\requests\\api.py:59\u001b[0m, in \u001b[0;36mrequest\u001b[1;34m(method, url, **kwargs)\u001b[0m\n\u001b[0;32m     <a href='file:///c%3A/Users/vsmit/Desktop/Portfolio/NY-Times-vs-Stocks/env/lib/site-packages/requests/api.py?line=54'>55</a>\u001b[0m \u001b[39m# By using the 'with' statement we are sure the session is closed, thus we\u001b[39;00m\n\u001b[0;32m     <a href='file:///c%3A/Users/vsmit/Desktop/Portfolio/NY-Times-vs-Stocks/env/lib/site-packages/requests/api.py?line=55'>56</a>\u001b[0m \u001b[39m# avoid leaving sockets open which can trigger a ResourceWarning in some\u001b[39;00m\n\u001b[0;32m     <a href='file:///c%3A/Users/vsmit/Desktop/Portfolio/NY-Times-vs-Stocks/env/lib/site-packages/requests/api.py?line=56'>57</a>\u001b[0m \u001b[39m# cases, and look like a memory leak in others.\u001b[39;00m\n\u001b[0;32m     <a href='file:///c%3A/Users/vsmit/Desktop/Portfolio/NY-Times-vs-Stocks/env/lib/site-packages/requests/api.py?line=57'>58</a>\u001b[0m \u001b[39mwith\u001b[39;00m sessions\u001b[39m.\u001b[39mSession() \u001b[39mas\u001b[39;00m session:\n\u001b[1;32m---> <a href='file:///c%3A/Users/vsmit/Desktop/Portfolio/NY-Times-vs-Stocks/env/lib/site-packages/requests/api.py?line=58'>59</a>\u001b[0m     \u001b[39mreturn\u001b[39;00m session\u001b[39m.\u001b[39mrequest(method\u001b[39m=\u001b[39mmethod, url\u001b[39m=\u001b[39murl, \u001b[39m*\u001b[39m\u001b[39m*\u001b[39mkwargs)\n",
      "File \u001b[1;32mc:\\Users\\vsmit\\Desktop\\Portfolio\\NY-Times-vs-Stocks\\env\\lib\\site-packages\\requests\\sessions.py:587\u001b[0m, in \u001b[0;36mSession.request\u001b[1;34m(self, method, url, params, data, headers, cookies, files, auth, timeout, allow_redirects, proxies, hooks, stream, verify, cert, json)\u001b[0m\n\u001b[0;32m    <a href='file:///c%3A/Users/vsmit/Desktop/Portfolio/NY-Times-vs-Stocks/env/lib/site-packages/requests/sessions.py?line=581'>582</a>\u001b[0m send_kwargs \u001b[39m=\u001b[39m {\n\u001b[0;32m    <a href='file:///c%3A/Users/vsmit/Desktop/Portfolio/NY-Times-vs-Stocks/env/lib/site-packages/requests/sessions.py?line=582'>583</a>\u001b[0m     \u001b[39m\"\u001b[39m\u001b[39mtimeout\u001b[39m\u001b[39m\"\u001b[39m: timeout,\n\u001b[0;32m    <a href='file:///c%3A/Users/vsmit/Desktop/Portfolio/NY-Times-vs-Stocks/env/lib/site-packages/requests/sessions.py?line=583'>584</a>\u001b[0m     \u001b[39m\"\u001b[39m\u001b[39mallow_redirects\u001b[39m\u001b[39m\"\u001b[39m: allow_redirects,\n\u001b[0;32m    <a href='file:///c%3A/Users/vsmit/Desktop/Portfolio/NY-Times-vs-Stocks/env/lib/site-packages/requests/sessions.py?line=584'>585</a>\u001b[0m }\n\u001b[0;32m    <a href='file:///c%3A/Users/vsmit/Desktop/Portfolio/NY-Times-vs-Stocks/env/lib/site-packages/requests/sessions.py?line=585'>586</a>\u001b[0m send_kwargs\u001b[39m.\u001b[39mupdate(settings)\n\u001b[1;32m--> <a href='file:///c%3A/Users/vsmit/Desktop/Portfolio/NY-Times-vs-Stocks/env/lib/site-packages/requests/sessions.py?line=586'>587</a>\u001b[0m resp \u001b[39m=\u001b[39m \u001b[39mself\u001b[39m\u001b[39m.\u001b[39msend(prep, \u001b[39m*\u001b[39m\u001b[39m*\u001b[39msend_kwargs)\n\u001b[0;32m    <a href='file:///c%3A/Users/vsmit/Desktop/Portfolio/NY-Times-vs-Stocks/env/lib/site-packages/requests/sessions.py?line=588'>589</a>\u001b[0m \u001b[39mreturn\u001b[39;00m resp\n",
      "File \u001b[1;32mc:\\Users\\vsmit\\Desktop\\Portfolio\\NY-Times-vs-Stocks\\env\\lib\\site-packages\\requests\\sessions.py:701\u001b[0m, in \u001b[0;36mSession.send\u001b[1;34m(self, request, **kwargs)\u001b[0m\n\u001b[0;32m    <a href='file:///c%3A/Users/vsmit/Desktop/Portfolio/NY-Times-vs-Stocks/env/lib/site-packages/requests/sessions.py?line=697'>698</a>\u001b[0m start \u001b[39m=\u001b[39m preferred_clock()\n\u001b[0;32m    <a href='file:///c%3A/Users/vsmit/Desktop/Portfolio/NY-Times-vs-Stocks/env/lib/site-packages/requests/sessions.py?line=699'>700</a>\u001b[0m \u001b[39m# Send the request\u001b[39;00m\n\u001b[1;32m--> <a href='file:///c%3A/Users/vsmit/Desktop/Portfolio/NY-Times-vs-Stocks/env/lib/site-packages/requests/sessions.py?line=700'>701</a>\u001b[0m r \u001b[39m=\u001b[39m adapter\u001b[39m.\u001b[39msend(request, \u001b[39m*\u001b[39m\u001b[39m*\u001b[39mkwargs)\n\u001b[0;32m    <a href='file:///c%3A/Users/vsmit/Desktop/Portfolio/NY-Times-vs-Stocks/env/lib/site-packages/requests/sessions.py?line=702'>703</a>\u001b[0m \u001b[39m# Total elapsed time of the request (approximately)\u001b[39;00m\n\u001b[0;32m    <a href='file:///c%3A/Users/vsmit/Desktop/Portfolio/NY-Times-vs-Stocks/env/lib/site-packages/requests/sessions.py?line=703'>704</a>\u001b[0m elapsed \u001b[39m=\u001b[39m preferred_clock() \u001b[39m-\u001b[39m start\n",
      "File \u001b[1;32mc:\\Users\\vsmit\\Desktop\\Portfolio\\NY-Times-vs-Stocks\\env\\lib\\site-packages\\requests\\adapters.py:489\u001b[0m, in \u001b[0;36mHTTPAdapter.send\u001b[1;34m(self, request, stream, timeout, verify, cert, proxies)\u001b[0m\n\u001b[0;32m    <a href='file:///c%3A/Users/vsmit/Desktop/Portfolio/NY-Times-vs-Stocks/env/lib/site-packages/requests/adapters.py?line=486'>487</a>\u001b[0m \u001b[39mtry\u001b[39;00m:\n\u001b[0;32m    <a href='file:///c%3A/Users/vsmit/Desktop/Portfolio/NY-Times-vs-Stocks/env/lib/site-packages/requests/adapters.py?line=487'>488</a>\u001b[0m     \u001b[39mif\u001b[39;00m \u001b[39mnot\u001b[39;00m chunked:\n\u001b[1;32m--> <a href='file:///c%3A/Users/vsmit/Desktop/Portfolio/NY-Times-vs-Stocks/env/lib/site-packages/requests/adapters.py?line=488'>489</a>\u001b[0m         resp \u001b[39m=\u001b[39m conn\u001b[39m.\u001b[39;49murlopen(\n\u001b[0;32m    <a href='file:///c%3A/Users/vsmit/Desktop/Portfolio/NY-Times-vs-Stocks/env/lib/site-packages/requests/adapters.py?line=489'>490</a>\u001b[0m             method\u001b[39m=\u001b[39;49mrequest\u001b[39m.\u001b[39;49mmethod,\n\u001b[0;32m    <a href='file:///c%3A/Users/vsmit/Desktop/Portfolio/NY-Times-vs-Stocks/env/lib/site-packages/requests/adapters.py?line=490'>491</a>\u001b[0m             url\u001b[39m=\u001b[39;49murl,\n\u001b[0;32m    <a href='file:///c%3A/Users/vsmit/Desktop/Portfolio/NY-Times-vs-Stocks/env/lib/site-packages/requests/adapters.py?line=491'>492</a>\u001b[0m             body\u001b[39m=\u001b[39;49mrequest\u001b[39m.\u001b[39;49mbody,\n\u001b[0;32m    <a href='file:///c%3A/Users/vsmit/Desktop/Portfolio/NY-Times-vs-Stocks/env/lib/site-packages/requests/adapters.py?line=492'>493</a>\u001b[0m             headers\u001b[39m=\u001b[39;49mrequest\u001b[39m.\u001b[39;49mheaders,\n\u001b[0;32m    <a href='file:///c%3A/Users/vsmit/Desktop/Portfolio/NY-Times-vs-Stocks/env/lib/site-packages/requests/adapters.py?line=493'>494</a>\u001b[0m             redirect\u001b[39m=\u001b[39;49m\u001b[39mFalse\u001b[39;49;00m,\n\u001b[0;32m    <a href='file:///c%3A/Users/vsmit/Desktop/Portfolio/NY-Times-vs-Stocks/env/lib/site-packages/requests/adapters.py?line=494'>495</a>\u001b[0m             assert_same_host\u001b[39m=\u001b[39;49m\u001b[39mFalse\u001b[39;49;00m,\n\u001b[0;32m    <a href='file:///c%3A/Users/vsmit/Desktop/Portfolio/NY-Times-vs-Stocks/env/lib/site-packages/requests/adapters.py?line=495'>496</a>\u001b[0m             preload_content\u001b[39m=\u001b[39;49m\u001b[39mFalse\u001b[39;49;00m,\n\u001b[0;32m    <a href='file:///c%3A/Users/vsmit/Desktop/Portfolio/NY-Times-vs-Stocks/env/lib/site-packages/requests/adapters.py?line=496'>497</a>\u001b[0m             decode_content\u001b[39m=\u001b[39;49m\u001b[39mFalse\u001b[39;49;00m,\n\u001b[0;32m    <a href='file:///c%3A/Users/vsmit/Desktop/Portfolio/NY-Times-vs-Stocks/env/lib/site-packages/requests/adapters.py?line=497'>498</a>\u001b[0m             retries\u001b[39m=\u001b[39;49m\u001b[39mself\u001b[39;49m\u001b[39m.\u001b[39;49mmax_retries,\n\u001b[0;32m    <a href='file:///c%3A/Users/vsmit/Desktop/Portfolio/NY-Times-vs-Stocks/env/lib/site-packages/requests/adapters.py?line=498'>499</a>\u001b[0m             timeout\u001b[39m=\u001b[39;49mtimeout,\n\u001b[0;32m    <a href='file:///c%3A/Users/vsmit/Desktop/Portfolio/NY-Times-vs-Stocks/env/lib/site-packages/requests/adapters.py?line=499'>500</a>\u001b[0m         )\n\u001b[0;32m    <a href='file:///c%3A/Users/vsmit/Desktop/Portfolio/NY-Times-vs-Stocks/env/lib/site-packages/requests/adapters.py?line=501'>502</a>\u001b[0m     \u001b[39m# Send the request.\u001b[39;00m\n\u001b[0;32m    <a href='file:///c%3A/Users/vsmit/Desktop/Portfolio/NY-Times-vs-Stocks/env/lib/site-packages/requests/adapters.py?line=502'>503</a>\u001b[0m     \u001b[39melse\u001b[39;00m:\n\u001b[0;32m    <a href='file:///c%3A/Users/vsmit/Desktop/Portfolio/NY-Times-vs-Stocks/env/lib/site-packages/requests/adapters.py?line=503'>504</a>\u001b[0m         \u001b[39mif\u001b[39;00m \u001b[39mhasattr\u001b[39m(conn, \u001b[39m\"\u001b[39m\u001b[39mproxy_pool\u001b[39m\u001b[39m\"\u001b[39m):\n",
      "File \u001b[1;32mc:\\Users\\vsmit\\Desktop\\Portfolio\\NY-Times-vs-Stocks\\env\\lib\\site-packages\\urllib3\\connectionpool.py:703\u001b[0m, in \u001b[0;36mHTTPConnectionPool.urlopen\u001b[1;34m(self, method, url, body, headers, retries, redirect, assert_same_host, timeout, pool_timeout, release_conn, chunked, body_pos, **response_kw)\u001b[0m\n\u001b[0;32m    <a href='file:///c%3A/Users/vsmit/Desktop/Portfolio/NY-Times-vs-Stocks/env/lib/site-packages/urllib3/connectionpool.py?line=699'>700</a>\u001b[0m     \u001b[39mself\u001b[39m\u001b[39m.\u001b[39m_prepare_proxy(conn)\n\u001b[0;32m    <a href='file:///c%3A/Users/vsmit/Desktop/Portfolio/NY-Times-vs-Stocks/env/lib/site-packages/urllib3/connectionpool.py?line=701'>702</a>\u001b[0m \u001b[39m# Make the request on the httplib connection object.\u001b[39;00m\n\u001b[1;32m--> <a href='file:///c%3A/Users/vsmit/Desktop/Portfolio/NY-Times-vs-Stocks/env/lib/site-packages/urllib3/connectionpool.py?line=702'>703</a>\u001b[0m httplib_response \u001b[39m=\u001b[39m \u001b[39mself\u001b[39;49m\u001b[39m.\u001b[39;49m_make_request(\n\u001b[0;32m    <a href='file:///c%3A/Users/vsmit/Desktop/Portfolio/NY-Times-vs-Stocks/env/lib/site-packages/urllib3/connectionpool.py?line=703'>704</a>\u001b[0m     conn,\n\u001b[0;32m    <a href='file:///c%3A/Users/vsmit/Desktop/Portfolio/NY-Times-vs-Stocks/env/lib/site-packages/urllib3/connectionpool.py?line=704'>705</a>\u001b[0m     method,\n\u001b[0;32m    <a href='file:///c%3A/Users/vsmit/Desktop/Portfolio/NY-Times-vs-Stocks/env/lib/site-packages/urllib3/connectionpool.py?line=705'>706</a>\u001b[0m     url,\n\u001b[0;32m    <a href='file:///c%3A/Users/vsmit/Desktop/Portfolio/NY-Times-vs-Stocks/env/lib/site-packages/urllib3/connectionpool.py?line=706'>707</a>\u001b[0m     timeout\u001b[39m=\u001b[39;49mtimeout_obj,\n\u001b[0;32m    <a href='file:///c%3A/Users/vsmit/Desktop/Portfolio/NY-Times-vs-Stocks/env/lib/site-packages/urllib3/connectionpool.py?line=707'>708</a>\u001b[0m     body\u001b[39m=\u001b[39;49mbody,\n\u001b[0;32m    <a href='file:///c%3A/Users/vsmit/Desktop/Portfolio/NY-Times-vs-Stocks/env/lib/site-packages/urllib3/connectionpool.py?line=708'>709</a>\u001b[0m     headers\u001b[39m=\u001b[39;49mheaders,\n\u001b[0;32m    <a href='file:///c%3A/Users/vsmit/Desktop/Portfolio/NY-Times-vs-Stocks/env/lib/site-packages/urllib3/connectionpool.py?line=709'>710</a>\u001b[0m     chunked\u001b[39m=\u001b[39;49mchunked,\n\u001b[0;32m    <a href='file:///c%3A/Users/vsmit/Desktop/Portfolio/NY-Times-vs-Stocks/env/lib/site-packages/urllib3/connectionpool.py?line=710'>711</a>\u001b[0m )\n\u001b[0;32m    <a href='file:///c%3A/Users/vsmit/Desktop/Portfolio/NY-Times-vs-Stocks/env/lib/site-packages/urllib3/connectionpool.py?line=712'>713</a>\u001b[0m \u001b[39m# If we're going to release the connection in ``finally:``, then\u001b[39;00m\n\u001b[0;32m    <a href='file:///c%3A/Users/vsmit/Desktop/Portfolio/NY-Times-vs-Stocks/env/lib/site-packages/urllib3/connectionpool.py?line=713'>714</a>\u001b[0m \u001b[39m# the response doesn't need to know about the connection. Otherwise\u001b[39;00m\n\u001b[0;32m    <a href='file:///c%3A/Users/vsmit/Desktop/Portfolio/NY-Times-vs-Stocks/env/lib/site-packages/urllib3/connectionpool.py?line=714'>715</a>\u001b[0m \u001b[39m# it will also try to release it and we'll have a double-release\u001b[39;00m\n\u001b[0;32m    <a href='file:///c%3A/Users/vsmit/Desktop/Portfolio/NY-Times-vs-Stocks/env/lib/site-packages/urllib3/connectionpool.py?line=715'>716</a>\u001b[0m \u001b[39m# mess.\u001b[39;00m\n\u001b[0;32m    <a href='file:///c%3A/Users/vsmit/Desktop/Portfolio/NY-Times-vs-Stocks/env/lib/site-packages/urllib3/connectionpool.py?line=716'>717</a>\u001b[0m response_conn \u001b[39m=\u001b[39m conn \u001b[39mif\u001b[39;00m \u001b[39mnot\u001b[39;00m release_conn \u001b[39melse\u001b[39;00m \u001b[39mNone\u001b[39;00m\n",
      "File \u001b[1;32mc:\\Users\\vsmit\\Desktop\\Portfolio\\NY-Times-vs-Stocks\\env\\lib\\site-packages\\urllib3\\connectionpool.py:386\u001b[0m, in \u001b[0;36mHTTPConnectionPool._make_request\u001b[1;34m(self, conn, method, url, timeout, chunked, **httplib_request_kw)\u001b[0m\n\u001b[0;32m    <a href='file:///c%3A/Users/vsmit/Desktop/Portfolio/NY-Times-vs-Stocks/env/lib/site-packages/urllib3/connectionpool.py?line=383'>384</a>\u001b[0m \u001b[39m# Trigger any extra validation we need to do.\u001b[39;00m\n\u001b[0;32m    <a href='file:///c%3A/Users/vsmit/Desktop/Portfolio/NY-Times-vs-Stocks/env/lib/site-packages/urllib3/connectionpool.py?line=384'>385</a>\u001b[0m \u001b[39mtry\u001b[39;00m:\n\u001b[1;32m--> <a href='file:///c%3A/Users/vsmit/Desktop/Portfolio/NY-Times-vs-Stocks/env/lib/site-packages/urllib3/connectionpool.py?line=385'>386</a>\u001b[0m     \u001b[39mself\u001b[39;49m\u001b[39m.\u001b[39;49m_validate_conn(conn)\n\u001b[0;32m    <a href='file:///c%3A/Users/vsmit/Desktop/Portfolio/NY-Times-vs-Stocks/env/lib/site-packages/urllib3/connectionpool.py?line=386'>387</a>\u001b[0m \u001b[39mexcept\u001b[39;00m (SocketTimeout, BaseSSLError) \u001b[39mas\u001b[39;00m e:\n\u001b[0;32m    <a href='file:///c%3A/Users/vsmit/Desktop/Portfolio/NY-Times-vs-Stocks/env/lib/site-packages/urllib3/connectionpool.py?line=387'>388</a>\u001b[0m     \u001b[39m# Py2 raises this as a BaseSSLError, Py3 raises it as socket timeout.\u001b[39;00m\n\u001b[0;32m    <a href='file:///c%3A/Users/vsmit/Desktop/Portfolio/NY-Times-vs-Stocks/env/lib/site-packages/urllib3/connectionpool.py?line=388'>389</a>\u001b[0m     \u001b[39mself\u001b[39m\u001b[39m.\u001b[39m_raise_timeout(err\u001b[39m=\u001b[39me, url\u001b[39m=\u001b[39murl, timeout_value\u001b[39m=\u001b[39mconn\u001b[39m.\u001b[39mtimeout)\n",
      "File \u001b[1;32mc:\\Users\\vsmit\\Desktop\\Portfolio\\NY-Times-vs-Stocks\\env\\lib\\site-packages\\urllib3\\connectionpool.py:1042\u001b[0m, in \u001b[0;36mHTTPSConnectionPool._validate_conn\u001b[1;34m(self, conn)\u001b[0m\n\u001b[0;32m   <a href='file:///c%3A/Users/vsmit/Desktop/Portfolio/NY-Times-vs-Stocks/env/lib/site-packages/urllib3/connectionpool.py?line=1039'>1040</a>\u001b[0m \u001b[39m# Force connect early to allow us to validate the connection.\u001b[39;00m\n\u001b[0;32m   <a href='file:///c%3A/Users/vsmit/Desktop/Portfolio/NY-Times-vs-Stocks/env/lib/site-packages/urllib3/connectionpool.py?line=1040'>1041</a>\u001b[0m \u001b[39mif\u001b[39;00m \u001b[39mnot\u001b[39;00m \u001b[39mgetattr\u001b[39m(conn, \u001b[39m\"\u001b[39m\u001b[39msock\u001b[39m\u001b[39m\"\u001b[39m, \u001b[39mNone\u001b[39;00m):  \u001b[39m# AppEngine might not have  `.sock`\u001b[39;00m\n\u001b[1;32m-> <a href='file:///c%3A/Users/vsmit/Desktop/Portfolio/NY-Times-vs-Stocks/env/lib/site-packages/urllib3/connectionpool.py?line=1041'>1042</a>\u001b[0m     conn\u001b[39m.\u001b[39;49mconnect()\n\u001b[0;32m   <a href='file:///c%3A/Users/vsmit/Desktop/Portfolio/NY-Times-vs-Stocks/env/lib/site-packages/urllib3/connectionpool.py?line=1043'>1044</a>\u001b[0m \u001b[39mif\u001b[39;00m \u001b[39mnot\u001b[39;00m conn\u001b[39m.\u001b[39mis_verified:\n\u001b[0;32m   <a href='file:///c%3A/Users/vsmit/Desktop/Portfolio/NY-Times-vs-Stocks/env/lib/site-packages/urllib3/connectionpool.py?line=1044'>1045</a>\u001b[0m     warnings\u001b[39m.\u001b[39mwarn(\n\u001b[0;32m   <a href='file:///c%3A/Users/vsmit/Desktop/Portfolio/NY-Times-vs-Stocks/env/lib/site-packages/urllib3/connectionpool.py?line=1045'>1046</a>\u001b[0m         (\n\u001b[0;32m   <a href='file:///c%3A/Users/vsmit/Desktop/Portfolio/NY-Times-vs-Stocks/env/lib/site-packages/urllib3/connectionpool.py?line=1046'>1047</a>\u001b[0m             \u001b[39m\"\u001b[39m\u001b[39mUnverified HTTPS request is being made to host \u001b[39m\u001b[39m'\u001b[39m\u001b[39m%s\u001b[39;00m\u001b[39m'\u001b[39m\u001b[39m. \u001b[39m\u001b[39m\"\u001b[39m\n\u001b[1;32m   (...)\u001b[0m\n\u001b[0;32m   <a href='file:///c%3A/Users/vsmit/Desktop/Portfolio/NY-Times-vs-Stocks/env/lib/site-packages/urllib3/connectionpool.py?line=1051'>1052</a>\u001b[0m         InsecureRequestWarning,\n\u001b[0;32m   <a href='file:///c%3A/Users/vsmit/Desktop/Portfolio/NY-Times-vs-Stocks/env/lib/site-packages/urllib3/connectionpool.py?line=1052'>1053</a>\u001b[0m     )\n",
      "File \u001b[1;32mc:\\Users\\vsmit\\Desktop\\Portfolio\\NY-Times-vs-Stocks\\env\\lib\\site-packages\\urllib3\\connection.py:358\u001b[0m, in \u001b[0;36mHTTPSConnection.connect\u001b[1;34m(self)\u001b[0m\n\u001b[0;32m    <a href='file:///c%3A/Users/vsmit/Desktop/Portfolio/NY-Times-vs-Stocks/env/lib/site-packages/urllib3/connection.py?line=355'>356</a>\u001b[0m \u001b[39mdef\u001b[39;00m \u001b[39mconnect\u001b[39m(\u001b[39mself\u001b[39m):\n\u001b[0;32m    <a href='file:///c%3A/Users/vsmit/Desktop/Portfolio/NY-Times-vs-Stocks/env/lib/site-packages/urllib3/connection.py?line=356'>357</a>\u001b[0m     \u001b[39m# Add certificate verification\u001b[39;00m\n\u001b[1;32m--> <a href='file:///c%3A/Users/vsmit/Desktop/Portfolio/NY-Times-vs-Stocks/env/lib/site-packages/urllib3/connection.py?line=357'>358</a>\u001b[0m     \u001b[39mself\u001b[39m\u001b[39m.\u001b[39msock \u001b[39m=\u001b[39m conn \u001b[39m=\u001b[39m \u001b[39mself\u001b[39;49m\u001b[39m.\u001b[39;49m_new_conn()\n\u001b[0;32m    <a href='file:///c%3A/Users/vsmit/Desktop/Portfolio/NY-Times-vs-Stocks/env/lib/site-packages/urllib3/connection.py?line=358'>359</a>\u001b[0m     hostname \u001b[39m=\u001b[39m \u001b[39mself\u001b[39m\u001b[39m.\u001b[39mhost\n\u001b[0;32m    <a href='file:///c%3A/Users/vsmit/Desktop/Portfolio/NY-Times-vs-Stocks/env/lib/site-packages/urllib3/connection.py?line=359'>360</a>\u001b[0m     tls_in_tls \u001b[39m=\u001b[39m \u001b[39mFalse\u001b[39;00m\n",
      "File \u001b[1;32mc:\\Users\\vsmit\\Desktop\\Portfolio\\NY-Times-vs-Stocks\\env\\lib\\site-packages\\urllib3\\connection.py:174\u001b[0m, in \u001b[0;36mHTTPConnection._new_conn\u001b[1;34m(self)\u001b[0m\n\u001b[0;32m    <a href='file:///c%3A/Users/vsmit/Desktop/Portfolio/NY-Times-vs-Stocks/env/lib/site-packages/urllib3/connection.py?line=170'>171</a>\u001b[0m     extra_kw[\u001b[39m\"\u001b[39m\u001b[39msocket_options\u001b[39m\u001b[39m\"\u001b[39m] \u001b[39m=\u001b[39m \u001b[39mself\u001b[39m\u001b[39m.\u001b[39msocket_options\n\u001b[0;32m    <a href='file:///c%3A/Users/vsmit/Desktop/Portfolio/NY-Times-vs-Stocks/env/lib/site-packages/urllib3/connection.py?line=172'>173</a>\u001b[0m \u001b[39mtry\u001b[39;00m:\n\u001b[1;32m--> <a href='file:///c%3A/Users/vsmit/Desktop/Portfolio/NY-Times-vs-Stocks/env/lib/site-packages/urllib3/connection.py?line=173'>174</a>\u001b[0m     conn \u001b[39m=\u001b[39m connection\u001b[39m.\u001b[39mcreate_connection(\n\u001b[0;32m    <a href='file:///c%3A/Users/vsmit/Desktop/Portfolio/NY-Times-vs-Stocks/env/lib/site-packages/urllib3/connection.py?line=174'>175</a>\u001b[0m         (\u001b[39mself\u001b[39m\u001b[39m.\u001b[39m_dns_host, \u001b[39mself\u001b[39m\u001b[39m.\u001b[39mport), \u001b[39mself\u001b[39m\u001b[39m.\u001b[39mtimeout, \u001b[39m*\u001b[39m\u001b[39m*\u001b[39mextra_kw\n\u001b[0;32m    <a href='file:///c%3A/Users/vsmit/Desktop/Portfolio/NY-Times-vs-Stocks/env/lib/site-packages/urllib3/connection.py?line=175'>176</a>\u001b[0m     )\n\u001b[0;32m    <a href='file:///c%3A/Users/vsmit/Desktop/Portfolio/NY-Times-vs-Stocks/env/lib/site-packages/urllib3/connection.py?line=177'>178</a>\u001b[0m \u001b[39mexcept\u001b[39;00m SocketTimeout:\n\u001b[0;32m    <a href='file:///c%3A/Users/vsmit/Desktop/Portfolio/NY-Times-vs-Stocks/env/lib/site-packages/urllib3/connection.py?line=178'>179</a>\u001b[0m     \u001b[39mraise\u001b[39;00m ConnectTimeoutError(\n\u001b[0;32m    <a href='file:///c%3A/Users/vsmit/Desktop/Portfolio/NY-Times-vs-Stocks/env/lib/site-packages/urllib3/connection.py?line=179'>180</a>\u001b[0m         \u001b[39mself\u001b[39m,\n\u001b[0;32m    <a href='file:///c%3A/Users/vsmit/Desktop/Portfolio/NY-Times-vs-Stocks/env/lib/site-packages/urllib3/connection.py?line=180'>181</a>\u001b[0m         \u001b[39m\"\u001b[39m\u001b[39mConnection to \u001b[39m\u001b[39m%s\u001b[39;00m\u001b[39m timed out. (connect timeout=\u001b[39m\u001b[39m%s\u001b[39;00m\u001b[39m)\u001b[39m\u001b[39m\"\u001b[39m\n\u001b[0;32m    <a href='file:///c%3A/Users/vsmit/Desktop/Portfolio/NY-Times-vs-Stocks/env/lib/site-packages/urllib3/connection.py?line=181'>182</a>\u001b[0m         \u001b[39m%\u001b[39m (\u001b[39mself\u001b[39m\u001b[39m.\u001b[39mhost, \u001b[39mself\u001b[39m\u001b[39m.\u001b[39mtimeout),\n\u001b[0;32m    <a href='file:///c%3A/Users/vsmit/Desktop/Portfolio/NY-Times-vs-Stocks/env/lib/site-packages/urllib3/connection.py?line=182'>183</a>\u001b[0m     )\n",
      "File \u001b[1;32mc:\\Users\\vsmit\\Desktop\\Portfolio\\NY-Times-vs-Stocks\\env\\lib\\site-packages\\urllib3\\util\\connection.py:85\u001b[0m, in \u001b[0;36mcreate_connection\u001b[1;34m(address, timeout, source_address, socket_options)\u001b[0m\n\u001b[0;32m     <a href='file:///c%3A/Users/vsmit/Desktop/Portfolio/NY-Times-vs-Stocks/env/lib/site-packages/urllib3/util/connection.py?line=82'>83</a>\u001b[0m     \u001b[39mif\u001b[39;00m source_address:\n\u001b[0;32m     <a href='file:///c%3A/Users/vsmit/Desktop/Portfolio/NY-Times-vs-Stocks/env/lib/site-packages/urllib3/util/connection.py?line=83'>84</a>\u001b[0m         sock\u001b[39m.\u001b[39mbind(source_address)\n\u001b[1;32m---> <a href='file:///c%3A/Users/vsmit/Desktop/Portfolio/NY-Times-vs-Stocks/env/lib/site-packages/urllib3/util/connection.py?line=84'>85</a>\u001b[0m     sock\u001b[39m.\u001b[39;49mconnect(sa)\n\u001b[0;32m     <a href='file:///c%3A/Users/vsmit/Desktop/Portfolio/NY-Times-vs-Stocks/env/lib/site-packages/urllib3/util/connection.py?line=85'>86</a>\u001b[0m     \u001b[39mreturn\u001b[39;00m sock\n\u001b[0;32m     <a href='file:///c%3A/Users/vsmit/Desktop/Portfolio/NY-Times-vs-Stocks/env/lib/site-packages/urllib3/util/connection.py?line=87'>88</a>\u001b[0m \u001b[39mexcept\u001b[39;00m socket\u001b[39m.\u001b[39merror \u001b[39mas\u001b[39;00m e:\n",
      "\u001b[1;31mKeyboardInterrupt\u001b[0m: "
     ]
    }
   ],
   "source": [
    "y = 1\n",
    "b = tuple()\n",
    "for d in date_range: # requests articles for every month in the range of startDate to endDate variables defined above. Filters by has_headline\n",
    "    year, month, day  = int(d[0]), int(d[1]), int(d[2])\n",
    "    a = request_articles(date(year,month,day)) # Hands back either the request json \n",
    "    if type(a) == type(b):\n",
    "        print(f'REQUEST ERROR: {a[0]}')\n",
    "    else:\n",
    "        for article in a:\n",
    "            if has_headline(article):\n",
    "                # totalColumns = r[1].keys()\n",
    "                for i in range(1,len(article)):\n",
    "                    articles['index']         = y\n",
    "                    articles['id']            = article[i]['_id']\n",
    "                    articles['date']          = article[i]['pub_date']\n",
    "                    articles['url']           = article[i]['web_url']\n",
    "                    articles['headline']      = article[i]['headline']\n",
    "                    articles['abstract']      = article[i]['abstract']\n",
    "                    articles['leadParagraph'] = article[i]['lead_paragraph']\n",
    "                    articles['keywords']      = article[i]['keywords']\n",
    "                    articles['author']        = article[i]['byline']\n",
    "                y += 1\n",
    "            else:\n",
    "                print(f'NO HEADLINE: {article}')\n"
   ]
  },
  {
   "cell_type": "code",
   "execution_count": null,
   "metadata": {},
   "outputs": [],
   "source": [
    "allArticlesDataFrame = pd.DataFrame(data=articles,index=articles['date'])\n",
    "articlesAndStocksDataFrame = allArticlesDataFrame\n",
    "allArticlesDataFrame"
   ]
  },
  {
   "cell_type": "code",
   "execution_count": 203,
   "metadata": {},
   "outputs": [
    {
     "name": "stdout",
     "output_type": "stream",
     "text": [
      "200\n"
     ]
    },
    {
     "data": {
      "text/plain": [
       "174.01"
      ]
     },
     "execution_count": 203,
     "metadata": {},
     "output_type": "execute_result"
    }
   ],
   "source": [
    "tickerR = request_ticker(tickerSymbol='AAPL',tickerDate='2022-02-01')\n",
    "tickerR"
   ]
  }
 ],
 "metadata": {
  "interpreter": {
   "hash": "02c2ae7a6e84caf918063aba9c6693b0f4c9ae1c06cd2d53e0c72293d7182a81"
  },
  "kernelspec": {
   "display_name": "Python 3.10.5 ('env': venv)",
   "language": "python",
   "name": "python3"
  },
  "language_info": {
   "codemirror_mode": {
    "name": "ipython",
    "version": 3
   },
   "file_extension": ".py",
   "mimetype": "text/x-python",
   "name": "python",
   "nbconvert_exporter": "python",
   "pygments_lexer": "ipython3",
   "version": "3.10.5"
  },
  "orig_nbformat": 4
 },
 "nbformat": 4,
 "nbformat_minor": 2
}
