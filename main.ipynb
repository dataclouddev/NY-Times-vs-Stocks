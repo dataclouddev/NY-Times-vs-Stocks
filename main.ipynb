{
 "cells": [
  {
   "cell_type": "code",
   "execution_count": 27,
   "metadata": {},
   "outputs": [],
   "source": [
    "import pandas as pd\n",
    "import requests\n",
    "import bs4 as BeautifulSoup\n",
    "import matplotlib as plt\n",
    "import json\n",
    "import time\n",
    "from datetime import date"
   ]
  },
  {
   "cell_type": "code",
   "execution_count": 15,
   "metadata": {},
   "outputs": [],
   "source": [
    "from keys import MARKET_STACK_API_KEY, NY_Times_API_KEY, NY_Times_API_SECRET_KEY"
   ]
  },
  {
   "cell_type": "code",
   "execution_count": 5,
   "metadata": {},
   "outputs": [],
   "source": [
    "MARKET_STACK_BASE_URL = 'http://api.marketstack.com/v1/'\n",
    "NY_Times_ARCHIVE_BASE_URL = 'https://api.nytimes.com/svc/archive/v1/'#YYYY/MM.json?api-key=\n",
    "NY_Times_ARTICLE_SEARCH_BASE_URL = 'https://api.nytimes.com/svc/search/v2/articlesearch.json?q='"
   ]
  },
  {
   "cell_type": "markdown",
   "metadata": {},
   "source": [
    "Hypothesis: Articles released by the NY Times influence the performance of stock symbols.\n",
    "Null Hypothesis: Articles released by the NY Times have no correlation with the performance of stock symbols."
   ]
  },
  {
   "cell_type": "code",
   "execution_count": 24,
   "metadata": {},
   "outputs": [],
   "source": [
    "def request_article(date):\n",
    "    base = NY_Times_ARCHIVE_BASE_URL\n",
    "    url = f'{base}{date.year}/{date.month}.json?api-key={NY_Times_API_KEY}'\n",
    "    req = requests.get(url).json()\n",
    "    time.sleep(5)\n",
    "    return req"
   ]
  },
  {
   "cell_type": "code",
   "execution_count": 25,
   "metadata": {},
   "outputs": [],
   "source": [
    "def has_headline(article):\n",
    "    article_has_headline = type(article[ 'headline']) == dict and 'main' in article['headline'].keys()\n",
    "    return article_has_headline"
   ]
  },
  {
   "cell_type": "code",
   "execution_count": null,
   "metadata": {},
   "outputs": [],
   "source": [
    "def to_pandas_df(req):\n",
    "    "
   ]
  },
  {
   "cell_type": "code",
   "execution_count": 34,
   "metadata": {},
   "outputs": [
    {
     "ename": "TypeError",
     "evalue": "'datetime.date' object is not callable",
     "output_type": "error",
     "traceback": [
      "\u001b[1;31m---------------------------------------------------------------------------\u001b[0m",
      "\u001b[1;31mTypeError\u001b[0m                                 Traceback (most recent call last)",
      "\u001b[1;32mc:\\Users\\vsmit\\Desktop\\Portfolio\\NY-Times-vs-Stocks\\main.ipynb Cell 8'\u001b[0m in \u001b[0;36m<cell line: 2>\u001b[1;34m()\u001b[0m\n\u001b[0;32m      <a href='vscode-notebook-cell:/c%3A/Users/vsmit/Desktop/Portfolio/NY-Times-vs-Stocks/main.ipynb#ch0000012?line=0'>1</a>\u001b[0m year, month, day \u001b[39m=\u001b[39m \u001b[39m2021\u001b[39m, \u001b[39m1\u001b[39m, \u001b[39m1\u001b[39m\n\u001b[1;32m----> <a href='vscode-notebook-cell:/c%3A/Users/vsmit/Desktop/Portfolio/NY-Times-vs-Stocks/main.ipynb#ch0000012?line=1'>2</a>\u001b[0m date \u001b[39m=\u001b[39m date(year, month, day)\n\u001b[0;32m      <a href='vscode-notebook-cell:/c%3A/Users/vsmit/Desktop/Portfolio/NY-Times-vs-Stocks/main.ipynb#ch0000012?line=2'>3</a>\u001b[0m r \u001b[39m=\u001b[39m request_article(date)\n\u001b[0;32m      <a href='vscode-notebook-cell:/c%3A/Users/vsmit/Desktop/Portfolio/NY-Times-vs-Stocks/main.ipynb#ch0000012?line=3'>4</a>\u001b[0m r\n",
      "\u001b[1;31mTypeError\u001b[0m: 'datetime.date' object is not callable"
     ]
    }
   ],
   "source": [
    "year, month, day = 2021, 1, 1\n",
    "date = date(year, month, day)\n",
    "r = request_article(date)\n",
    "r"
   ]
  },
  {
   "cell_type": "code",
   "execution_count": 67,
   "metadata": {},
   "outputs": [
    {
     "data": {
      "text/plain": [
       "'The video shows a man raising something to his car window before a bang is heard. An officer ducks for cover and then fires several rounds at the man.'"
      ]
     },
     "execution_count": 67,
     "metadata": {},
     "output_type": "execute_result"
    }
   ],
   "source": [
    "# r = r['response']['docs'] # Isolate list of metadata\n",
    "# r[1]\n",
    "r[1]['abstract']"
   ]
  },
  {
   "cell_type": "code",
   "execution_count": 65,
   "metadata": {},
   "outputs": [
    {
     "data": {
      "text/plain": [
       "7000"
      ]
     },
     "execution_count": 65,
     "metadata": {},
     "output_type": "execute_result"
    }
   ],
   "source": [
    "# r[8]['abstract']\n",
    "articles = {\n",
    "    'id':[],\n",
    "    'date':[],\n",
    "    'url':[],\n",
    "    'headline':[],\n",
    "    'abstract':[],\n",
    "    'leadParagraph':[],\n",
    "    'keywords':[],\n",
    "    'author':[]\n",
    "}\n",
    "\n",
    "for i in range(1,len(r)):\n",
    "    articles['id'] =\n",
    "    articles['date'] =\n",
    "    articles['url'] = \n",
    "    articles['headline'] = \n",
    "    articles['abstract'] = r[i]['abstract']\n",
    "    articles['leadParagraph'] =\n",
    "    articles['keywords'] =\n",
    "    articles['author'] = "
   ]
  }
 ],
 "metadata": {
  "interpreter": {
   "hash": "02c2ae7a6e84caf918063aba9c6693b0f4c9ae1c06cd2d53e0c72293d7182a81"
  },
  "kernelspec": {
   "display_name": "Python 3.10.5 ('env': venv)",
   "language": "python",
   "name": "python3"
  },
  "language_info": {
   "codemirror_mode": {
    "name": "ipython",
    "version": 3
   },
   "file_extension": ".py",
   "mimetype": "text/x-python",
   "name": "python",
   "nbconvert_exporter": "python",
   "pygments_lexer": "ipython3",
   "version": "3.10.5"
  },
  "orig_nbformat": 4
 },
 "nbformat": 4,
 "nbformat_minor": 2
}
