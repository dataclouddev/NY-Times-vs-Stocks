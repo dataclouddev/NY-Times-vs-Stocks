{
 "cells": [
  {
   "cell_type": "code",
   "execution_count": 7,
   "metadata": {},
   "outputs": [],
   "source": [
    "import pandas as pd\n",
    "import requests\n",
    "from datetime import date"
   ]
  },
  {
   "cell_type": "code",
   "execution_count": 11,
   "metadata": {},
   "outputs": [],
   "source": [
    "from keys import MARKET_STACK_API_KEY\n",
    "from datetime import date\n",
    "from settings import startDate, endDate, tickers\n",
    "\n",
    "params = {\n",
    "  'access_key': MARKET_STACK_API_KEY\n",
    "}\n",
    "\n",
    "BASE = 'http://api.marketstack.com/v1/'"
   ]
  },
  {
   "cell_type": "code",
   "execution_count": 9,
   "metadata": {},
   "outputs": [],
   "source": [
    "def all_dates_in_date_range(startDate=date.today(),endDate=date.today()):\n",
    "    days_in_range = [x.split(' ') for x in pd.date_range(startDate, endDate, freq='D').strftime(\"%Y %m %d\").tolist()]\n",
    "    return days_in_range"
   ]
  },
  {
   "cell_type": "code",
   "execution_count": 25,
   "metadata": {},
   "outputs": [],
   "source": [
    "def request_ticker(tickerSymbol,tickerDate='2020-01-01',params=params):\n",
    "    try:\n",
    "        api_result   = requests.get(f'{BASE}tickers/{tickerSymbol}/eod/{tickerDate}', params) #tickers/[symbol]/eod/[date] YYYY-MM-DD\n",
    "    except Exception as e:\n",
    "        print(f'API REQUEST FAILED: {api_result.status_code}')\n",
    "        print(f'TICKER SYMBOL: {tickerSymbol} | DATE: {tickerDate}')\n",
    "        return (e,api_result)\n",
    "    stock_data = api_result.json()\n",
    "    return stock_data"
   ]
  },
  {
   "cell_type": "code",
   "execution_count": 30,
   "metadata": {},
   "outputs": [],
   "source": [
    "def fetch_stocks(startDate,endDate,tickers):\n",
    "    data = { # Stocks dataframe columns\n",
    "    'date':[],\n",
    "    'symbol':[],\n",
    "    'high':[],\n",
    "    'low':[],\n",
    "    'close':[],\n",
    "    'volume':[],\n",
    "    'dividend':[],\n",
    "    'split-factor':[],\n",
    "    'exchange':[],\n",
    "    }\n",
    "    stocks_date_range = all_dates_in_date_range(startDate=startDate,endDate=endDate)\n",
    "    for d in stocks_date_range:\n",
    "        for ticker in tickers:\n",
    "            year, month, day  = str(d[0]), str(d[1]), str(d[2])\n",
    "            stock_data = request_ticker(tickerSymbol=ticker,tickerDate=f'{year}-{month}-{day}') # Hands back either the request json \n",
    "            try:\n",
    "                if type(stock_data) == type(tuple()):\n",
    "                    print(f'REQUEST ERROR: {stock_data[0]}')\n",
    "                else:\n",
    "                    data['date'].append(stock_data['date'])\n",
    "                    data['symbol'].append(stock_data['symbol'])\n",
    "                    data['high'].append(stock_data['high'])\n",
    "                    data['low'].append(stock_data['low'])\n",
    "                    data['close'].append(stock_data['close'])\n",
    "                    data['volume'].append(stock_data['volume'])\n",
    "                    data['dividend'].append(stock_data['dividend'])\n",
    "                    data['split-factor'].append(stock_data['split_factor'])\n",
    "                    data['exchange'].append(stock_data['exchange'])\n",
    "            except:\n",
    "                return stock_data\n",
    "    stocksDataframe = pd.DataFrame(data=data)\n",
    "    return stocksDataframe"
   ]
  },
  {
   "cell_type": "code",
   "execution_count": 24,
   "metadata": {},
   "outputs": [
    {
     "data": {
      "text/plain": [
       "{'error': {'code': 'function_access_restricted',\n",
       "  'message': 'Your current subscription plan does not support this API function'}}"
      ]
     },
     "execution_count": 24,
     "metadata": {},
     "output_type": "execute_result"
    }
   ],
   "source": [
    "_ = request_ticker(tickerSymbol='AAPL')\n",
    "_"
   ]
  },
  {
   "cell_type": "code",
   "execution_count": 32,
   "metadata": {},
   "outputs": [
    {
     "data": {
      "text/plain": [
       "{'error': {'code': 'function_access_restricted',\n",
       "  'message': 'Your current subscription plan does not support this API function'}}"
      ]
     },
     "execution_count": 32,
     "metadata": {},
     "output_type": "execute_result"
    }
   ],
   "source": [
    "a = fetch_stocks(startDate=startDate,endDate=endDate,tickers=tickers)\n",
    "a"
   ]
  }
 ],
 "metadata": {
  "interpreter": {
   "hash": "02c2ae7a6e84caf918063aba9c6693b0f4c9ae1c06cd2d53e0c72293d7182a81"
  },
  "kernelspec": {
   "display_name": "Python 3.10.5 ('env': venv)",
   "language": "python",
   "name": "python3"
  },
  "language_info": {
   "codemirror_mode": {
    "name": "ipython",
    "version": 3
   },
   "file_extension": ".py",
   "mimetype": "text/x-python",
   "name": "python",
   "nbconvert_exporter": "python",
   "pygments_lexer": "ipython3",
   "version": "3.10.5"
  },
  "orig_nbformat": 4
 },
 "nbformat": 4,
 "nbformat_minor": 2
}
