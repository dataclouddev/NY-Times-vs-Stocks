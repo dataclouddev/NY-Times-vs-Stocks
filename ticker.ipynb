{
 "cells": [
  {
   "cell_type": "code",
   "execution_count": 3,
   "metadata": {},
   "outputs": [],
   "source": [
    "from keys import MARKET_STACK_API_KEY\n",
    "from datetime import date\n",
    "from settings import startDate, endDate, tickers\n",
    "\n",
    "params = {\n",
    "  'access_key': MARKET_STACK_API_KEY\n",
    "}\n",
    "\n",
    "MARKET_STACK_BASE_URL = 'http://api.marketstack.com/v1/'"
   ]
  },
  {
   "cell_type": "code",
   "execution_count": 4,
   "metadata": {},
   "outputs": [],
   "source": [
    "def all_dates_in_date_range(startDate=date.today(),endDate=date.today()):\n",
    "    days_in_range = [x.split(' ') for x in pd.date_range(startDate, endDate, freq='D').strftime(\"%Y %m %d\").tolist()]\n",
    "    return days_in_range"
   ]
  },
  {
   "cell_type": "code",
   "execution_count": 5,
   "metadata": {},
   "outputs": [],
   "source": [
    "data = { # Stocks dataframe columns\n",
    "    'date':[],\n",
    "    'symbol':[],\n",
    "    'high':[],\n",
    "    'low':[],\n",
    "    'close':[],\n",
    "    'volume':[],\n",
    "    'dividend':[],\n",
    "    'split-factor':[],\n",
    "    'exchange':[]\n",
    "}"
   ]
  },
  {
   "cell_type": "code",
   "execution_count": null,
   "metadata": {},
   "outputs": [],
   "source": [
    "def request_ticker(tickerSymbol,tickerDate=None,params=params):\n",
    "\n",
    "    try:\n",
    "        api_result   = requests.get(f'http://api.marketstack.com/v1/tickers/{tickerSymbol}/eod/{tickerDate}', params) #/tickers/[symbol]/eod/[date] YYYY-MM-DD\n",
    "    except Exception as e:\n",
    "        print(f'API REQUEST FAILED: {api_result.status_code}')\n",
    "        print(f'TICKER SYMBOL: {tickerSymbol} | DATE: {tickerDate}')\n",
    "        return (e,api_result)\n",
    "    stock_data = api_result.json()\n",
    "    # return stock_data\n",
    "    data['date']         = stock_data['date']\n",
    "    data['symbol'] = stock_data['symbol']\n",
    "    data['high']         = stock_data['high']\n",
    "    data['low']          = stock_data['low']\n",
    "    data['close']        = stock_data['close']\n",
    "    data['volume']       = stock_data['volume']\n",
    "    data['dividend']     = stock_data['dividend']\n",
    "    data['split-factor'] = stock_data['split_factor']\n",
    "    data['exchange']     = stock_data['exchange']\n",
    "    return data"
   ]
  },
  {
   "cell_type": "code",
   "execution_count": null,
   "metadata": {},
   "outputs": [],
   "source": [
    "# tickerR = request_ticker(tickerSymbol='AAPL',tickerDate='2022-02-01')\n",
    "# tickerR"
   ]
  },
  {
   "cell_type": "code",
   "execution_count": null,
   "metadata": {},
   "outputs": [],
   "source": [
    "stocks_date_range = all_dates_in_date_range(startDate=startDate,endDate=endDate)"
   ]
  },
  {
   "cell_type": "code",
   "execution_count": null,
   "metadata": {},
   "outputs": [],
   "source": [
    "for d in stocks_date_range: # requests articles for every month in the range of startDate to endDate variables defined above. Filters by has_headline\n",
    "    for ticker in tickers:\n",
    "        year, month, day  = str(d[0]), str(d[1]), str(d[2])\n",
    "        a = request_ticker(tickerSymbol=ticker,tickerDate=f'{year}-{month}-{day}') # Hands back either the request json \n",
    "        if type(a) == type(tuple()):\n",
    "            print(f'REQUEST ERROR: {a[0]}')"
   ]
  }
 ],
 "metadata": {
  "interpreter": {
   "hash": "02c2ae7a6e84caf918063aba9c6693b0f4c9ae1c06cd2d53e0c72293d7182a81"
  },
  "kernelspec": {
   "display_name": "Python 3.10.5 ('env': venv)",
   "language": "python",
   "name": "python3"
  },
  "language_info": {
   "codemirror_mode": {
    "name": "ipython",
    "version": 3
   },
   "file_extension": ".py",
   "mimetype": "text/x-python",
   "name": "python",
   "nbconvert_exporter": "python",
   "pygments_lexer": "ipython3",
   "version": "3.10.5"
  },
  "orig_nbformat": 4
 },
 "nbformat": 4,
 "nbformat_minor": 2
}
